{
 "cells": [
  {
   "cell_type": "markdown",
   "metadata": {},
   "source": [
    "# Задание 1"
   ]
  },
  {
   "cell_type": "markdown",
   "metadata": {},
   "source": [
    "## Задача"
   ]
  },
  {
   "cell_type": "markdown",
   "metadata": {},
   "source": [
    "У нас есть датасет клиентов банка со многими анонимными признаками и колонка \"TARGET\", которая обозначает доволен клиент, или нет. 1 - недоволен, 0 - доволен.\n",
    "Задача состоит в построении модели, которая сможет предсказывать недовольство клиентов.<br>\n",
    "Ниже оригинальное описание:"
   ]
  },
  {
   "cell_type": "markdown",
   "metadata": {},
   "source": [
    "You are provided with an anonymized dataset containing a large number of numeric variables. The \"TARGET\" column is the variable to predict. It equals 1 for unsatisfied customers and 0 for satisfied customers.\n",
    "\n",
    "The task is to predict the probability that each customer in the test set is an unsatisfied customer.\n",
    "\n",
    "File descriptions<br>\n",
    "train.csv - the training set including the target<br>\n",
    "test.csv - the test set without the target<br>\n",
    "sample_submission.csv - a sample submission file in the correct format"
   ]
  },
  {
   "cell_type": "markdown",
   "metadata": {},
   "source": [
    "Ссылка на соревнование:<br>\n",
    "https://www.kaggle.com/c/santander-customer-satisfaction/overview"
   ]
  },
  {
   "cell_type": "code",
   "execution_count": 69,
   "metadata": {},
   "outputs": [],
   "source": [
    "import numpy as np\n",
    "import pandas as pd\n",
    "\n",
    "import seaborn as sns\n",
    "import matplotlib.pyplot as plt\n",
    "\n",
    "from sklearn.neighbors import KNeighborsClassifier\n",
    "from sklearn.metrics import roc_auc_score\n",
    "from sklearn.metrics import accuracy_score\n",
    "from sklearn.metrics import confusion_matrix"
   ]
  },
  {
   "cell_type": "code",
   "execution_count": 2,
   "metadata": {},
   "outputs": [
    {
     "data": {
      "text/html": [
       "<div>\n",
       "<style scoped>\n",
       "    .dataframe tbody tr th:only-of-type {\n",
       "        vertical-align: middle;\n",
       "    }\n",
       "\n",
       "    .dataframe tbody tr th {\n",
       "        vertical-align: top;\n",
       "    }\n",
       "\n",
       "    .dataframe thead th {\n",
       "        text-align: right;\n",
       "    }\n",
       "</style>\n",
       "<table border=\"1\" class=\"dataframe\">\n",
       "  <thead>\n",
       "    <tr style=\"text-align: right;\">\n",
       "      <th></th>\n",
       "      <th>ID</th>\n",
       "      <th>var3</th>\n",
       "      <th>var15</th>\n",
       "      <th>imp_ent_var16_ult1</th>\n",
       "      <th>imp_op_var39_comer_ult1</th>\n",
       "      <th>imp_op_var39_comer_ult3</th>\n",
       "      <th>imp_op_var40_comer_ult1</th>\n",
       "      <th>imp_op_var40_comer_ult3</th>\n",
       "      <th>imp_op_var40_efect_ult1</th>\n",
       "      <th>imp_op_var40_efect_ult3</th>\n",
       "      <th>...</th>\n",
       "      <th>saldo_medio_var33_hace2</th>\n",
       "      <th>saldo_medio_var33_hace3</th>\n",
       "      <th>saldo_medio_var33_ult1</th>\n",
       "      <th>saldo_medio_var33_ult3</th>\n",
       "      <th>saldo_medio_var44_hace2</th>\n",
       "      <th>saldo_medio_var44_hace3</th>\n",
       "      <th>saldo_medio_var44_ult1</th>\n",
       "      <th>saldo_medio_var44_ult3</th>\n",
       "      <th>var38</th>\n",
       "      <th>TARGET</th>\n",
       "    </tr>\n",
       "  </thead>\n",
       "  <tbody>\n",
       "    <tr>\n",
       "      <th>0</th>\n",
       "      <td>1</td>\n",
       "      <td>2</td>\n",
       "      <td>23</td>\n",
       "      <td>0.0</td>\n",
       "      <td>0.0</td>\n",
       "      <td>0.0</td>\n",
       "      <td>0.0</td>\n",
       "      <td>0.0</td>\n",
       "      <td>0.0</td>\n",
       "      <td>0.0</td>\n",
       "      <td>...</td>\n",
       "      <td>0.0</td>\n",
       "      <td>0.0</td>\n",
       "      <td>0.0</td>\n",
       "      <td>0.0</td>\n",
       "      <td>0.0</td>\n",
       "      <td>0.0</td>\n",
       "      <td>0.0</td>\n",
       "      <td>0.0</td>\n",
       "      <td>39205.170000</td>\n",
       "      <td>0</td>\n",
       "    </tr>\n",
       "    <tr>\n",
       "      <th>1</th>\n",
       "      <td>3</td>\n",
       "      <td>2</td>\n",
       "      <td>34</td>\n",
       "      <td>0.0</td>\n",
       "      <td>0.0</td>\n",
       "      <td>0.0</td>\n",
       "      <td>0.0</td>\n",
       "      <td>0.0</td>\n",
       "      <td>0.0</td>\n",
       "      <td>0.0</td>\n",
       "      <td>...</td>\n",
       "      <td>0.0</td>\n",
       "      <td>0.0</td>\n",
       "      <td>0.0</td>\n",
       "      <td>0.0</td>\n",
       "      <td>0.0</td>\n",
       "      <td>0.0</td>\n",
       "      <td>0.0</td>\n",
       "      <td>0.0</td>\n",
       "      <td>49278.030000</td>\n",
       "      <td>0</td>\n",
       "    </tr>\n",
       "    <tr>\n",
       "      <th>2</th>\n",
       "      <td>4</td>\n",
       "      <td>2</td>\n",
       "      <td>23</td>\n",
       "      <td>0.0</td>\n",
       "      <td>0.0</td>\n",
       "      <td>0.0</td>\n",
       "      <td>0.0</td>\n",
       "      <td>0.0</td>\n",
       "      <td>0.0</td>\n",
       "      <td>0.0</td>\n",
       "      <td>...</td>\n",
       "      <td>0.0</td>\n",
       "      <td>0.0</td>\n",
       "      <td>0.0</td>\n",
       "      <td>0.0</td>\n",
       "      <td>0.0</td>\n",
       "      <td>0.0</td>\n",
       "      <td>0.0</td>\n",
       "      <td>0.0</td>\n",
       "      <td>67333.770000</td>\n",
       "      <td>0</td>\n",
       "    </tr>\n",
       "    <tr>\n",
       "      <th>3</th>\n",
       "      <td>8</td>\n",
       "      <td>2</td>\n",
       "      <td>37</td>\n",
       "      <td>0.0</td>\n",
       "      <td>195.0</td>\n",
       "      <td>195.0</td>\n",
       "      <td>0.0</td>\n",
       "      <td>0.0</td>\n",
       "      <td>0.0</td>\n",
       "      <td>0.0</td>\n",
       "      <td>...</td>\n",
       "      <td>0.0</td>\n",
       "      <td>0.0</td>\n",
       "      <td>0.0</td>\n",
       "      <td>0.0</td>\n",
       "      <td>0.0</td>\n",
       "      <td>0.0</td>\n",
       "      <td>0.0</td>\n",
       "      <td>0.0</td>\n",
       "      <td>64007.970000</td>\n",
       "      <td>0</td>\n",
       "    </tr>\n",
       "    <tr>\n",
       "      <th>4</th>\n",
       "      <td>10</td>\n",
       "      <td>2</td>\n",
       "      <td>39</td>\n",
       "      <td>0.0</td>\n",
       "      <td>0.0</td>\n",
       "      <td>0.0</td>\n",
       "      <td>0.0</td>\n",
       "      <td>0.0</td>\n",
       "      <td>0.0</td>\n",
       "      <td>0.0</td>\n",
       "      <td>...</td>\n",
       "      <td>0.0</td>\n",
       "      <td>0.0</td>\n",
       "      <td>0.0</td>\n",
       "      <td>0.0</td>\n",
       "      <td>0.0</td>\n",
       "      <td>0.0</td>\n",
       "      <td>0.0</td>\n",
       "      <td>0.0</td>\n",
       "      <td>117310.979016</td>\n",
       "      <td>0</td>\n",
       "    </tr>\n",
       "  </tbody>\n",
       "</table>\n",
       "<p>5 rows × 371 columns</p>\n",
       "</div>"
      ],
      "text/plain": [
       "   ID  var3  var15  imp_ent_var16_ult1  imp_op_var39_comer_ult1  \\\n",
       "0   1     2     23                 0.0                      0.0   \n",
       "1   3     2     34                 0.0                      0.0   \n",
       "2   4     2     23                 0.0                      0.0   \n",
       "3   8     2     37                 0.0                    195.0   \n",
       "4  10     2     39                 0.0                      0.0   \n",
       "\n",
       "   imp_op_var39_comer_ult3  imp_op_var40_comer_ult1  imp_op_var40_comer_ult3  \\\n",
       "0                      0.0                      0.0                      0.0   \n",
       "1                      0.0                      0.0                      0.0   \n",
       "2                      0.0                      0.0                      0.0   \n",
       "3                    195.0                      0.0                      0.0   \n",
       "4                      0.0                      0.0                      0.0   \n",
       "\n",
       "   imp_op_var40_efect_ult1  imp_op_var40_efect_ult3  ...  \\\n",
       "0                      0.0                      0.0  ...   \n",
       "1                      0.0                      0.0  ...   \n",
       "2                      0.0                      0.0  ...   \n",
       "3                      0.0                      0.0  ...   \n",
       "4                      0.0                      0.0  ...   \n",
       "\n",
       "   saldo_medio_var33_hace2  saldo_medio_var33_hace3  saldo_medio_var33_ult1  \\\n",
       "0                      0.0                      0.0                     0.0   \n",
       "1                      0.0                      0.0                     0.0   \n",
       "2                      0.0                      0.0                     0.0   \n",
       "3                      0.0                      0.0                     0.0   \n",
       "4                      0.0                      0.0                     0.0   \n",
       "\n",
       "   saldo_medio_var33_ult3  saldo_medio_var44_hace2  saldo_medio_var44_hace3  \\\n",
       "0                     0.0                      0.0                      0.0   \n",
       "1                     0.0                      0.0                      0.0   \n",
       "2                     0.0                      0.0                      0.0   \n",
       "3                     0.0                      0.0                      0.0   \n",
       "4                     0.0                      0.0                      0.0   \n",
       "\n",
       "   saldo_medio_var44_ult1  saldo_medio_var44_ult3          var38  TARGET  \n",
       "0                     0.0                     0.0   39205.170000       0  \n",
       "1                     0.0                     0.0   49278.030000       0  \n",
       "2                     0.0                     0.0   67333.770000       0  \n",
       "3                     0.0                     0.0   64007.970000       0  \n",
       "4                     0.0                     0.0  117310.979016       0  \n",
       "\n",
       "[5 rows x 371 columns]"
      ]
     },
     "execution_count": 2,
     "metadata": {},
     "output_type": "execute_result"
    }
   ],
   "source": [
    "train = pd.read_csv('D:/Notebooks/Santander_customer_satisfaction/train.csv')\n",
    "train.head()"
   ]
  },
  {
   "cell_type": "code",
   "execution_count": 3,
   "metadata": {},
   "outputs": [
    {
     "data": {
      "text/plain": [
       "(76020, 371)"
      ]
     },
     "execution_count": 3,
     "metadata": {},
     "output_type": "execute_result"
    }
   ],
   "source": [
    "train.shape"
   ]
  },
  {
   "cell_type": "code",
   "execution_count": 4,
   "metadata": {
    "scrolled": true
   },
   "outputs": [
    {
     "data": {
      "text/html": [
       "<div>\n",
       "<style scoped>\n",
       "    .dataframe tbody tr th:only-of-type {\n",
       "        vertical-align: middle;\n",
       "    }\n",
       "\n",
       "    .dataframe tbody tr th {\n",
       "        vertical-align: top;\n",
       "    }\n",
       "\n",
       "    .dataframe thead th {\n",
       "        text-align: right;\n",
       "    }\n",
       "</style>\n",
       "<table border=\"1\" class=\"dataframe\">\n",
       "  <thead>\n",
       "    <tr style=\"text-align: right;\">\n",
       "      <th></th>\n",
       "      <th>count</th>\n",
       "      <th>mean</th>\n",
       "      <th>std</th>\n",
       "      <th>min</th>\n",
       "      <th>25%</th>\n",
       "      <th>50%</th>\n",
       "      <th>75%</th>\n",
       "      <th>max</th>\n",
       "    </tr>\n",
       "  </thead>\n",
       "  <tbody>\n",
       "    <tr>\n",
       "      <th>ID</th>\n",
       "      <td>76020.0</td>\n",
       "      <td>75964.050723</td>\n",
       "      <td>43781.947379</td>\n",
       "      <td>1.00</td>\n",
       "      <td>38104.7500</td>\n",
       "      <td>76043.00</td>\n",
       "      <td>113748.7500</td>\n",
       "      <td>151838.00</td>\n",
       "    </tr>\n",
       "    <tr>\n",
       "      <th>var3</th>\n",
       "      <td>76020.0</td>\n",
       "      <td>-1523.199277</td>\n",
       "      <td>39033.462364</td>\n",
       "      <td>-999999.00</td>\n",
       "      <td>2.0000</td>\n",
       "      <td>2.00</td>\n",
       "      <td>2.0000</td>\n",
       "      <td>238.00</td>\n",
       "    </tr>\n",
       "    <tr>\n",
       "      <th>var15</th>\n",
       "      <td>76020.0</td>\n",
       "      <td>33.212865</td>\n",
       "      <td>12.956486</td>\n",
       "      <td>5.00</td>\n",
       "      <td>23.0000</td>\n",
       "      <td>28.00</td>\n",
       "      <td>40.0000</td>\n",
       "      <td>105.00</td>\n",
       "    </tr>\n",
       "    <tr>\n",
       "      <th>imp_ent_var16_ult1</th>\n",
       "      <td>76020.0</td>\n",
       "      <td>86.208265</td>\n",
       "      <td>1614.757313</td>\n",
       "      <td>0.00</td>\n",
       "      <td>0.0000</td>\n",
       "      <td>0.00</td>\n",
       "      <td>0.0000</td>\n",
       "      <td>210000.00</td>\n",
       "    </tr>\n",
       "    <tr>\n",
       "      <th>imp_op_var39_comer_ult1</th>\n",
       "      <td>76020.0</td>\n",
       "      <td>72.363067</td>\n",
       "      <td>339.315831</td>\n",
       "      <td>0.00</td>\n",
       "      <td>0.0000</td>\n",
       "      <td>0.00</td>\n",
       "      <td>0.0000</td>\n",
       "      <td>12888.03</td>\n",
       "    </tr>\n",
       "    <tr>\n",
       "      <th>imp_op_var39_comer_ult3</th>\n",
       "      <td>76020.0</td>\n",
       "      <td>119.529632</td>\n",
       "      <td>546.266294</td>\n",
       "      <td>0.00</td>\n",
       "      <td>0.0000</td>\n",
       "      <td>0.00</td>\n",
       "      <td>0.0000</td>\n",
       "      <td>21024.81</td>\n",
       "    </tr>\n",
       "    <tr>\n",
       "      <th>imp_op_var40_comer_ult1</th>\n",
       "      <td>76020.0</td>\n",
       "      <td>3.559130</td>\n",
       "      <td>93.155749</td>\n",
       "      <td>0.00</td>\n",
       "      <td>0.0000</td>\n",
       "      <td>0.00</td>\n",
       "      <td>0.0000</td>\n",
       "      <td>8237.82</td>\n",
       "    </tr>\n",
       "    <tr>\n",
       "      <th>imp_op_var40_comer_ult3</th>\n",
       "      <td>76020.0</td>\n",
       "      <td>6.472698</td>\n",
       "      <td>153.737066</td>\n",
       "      <td>0.00</td>\n",
       "      <td>0.0000</td>\n",
       "      <td>0.00</td>\n",
       "      <td>0.0000</td>\n",
       "      <td>11073.57</td>\n",
       "    </tr>\n",
       "    <tr>\n",
       "      <th>imp_op_var40_efect_ult1</th>\n",
       "      <td>76020.0</td>\n",
       "      <td>0.412946</td>\n",
       "      <td>30.604864</td>\n",
       "      <td>0.00</td>\n",
       "      <td>0.0000</td>\n",
       "      <td>0.00</td>\n",
       "      <td>0.0000</td>\n",
       "      <td>6600.00</td>\n",
       "    </tr>\n",
       "    <tr>\n",
       "      <th>imp_op_var40_efect_ult3</th>\n",
       "      <td>76020.0</td>\n",
       "      <td>0.567352</td>\n",
       "      <td>36.513513</td>\n",
       "      <td>0.00</td>\n",
       "      <td>0.0000</td>\n",
       "      <td>0.00</td>\n",
       "      <td>0.0000</td>\n",
       "      <td>6600.00</td>\n",
       "    </tr>\n",
       "    <tr>\n",
       "      <th>imp_op_var40_ult1</th>\n",
       "      <td>76020.0</td>\n",
       "      <td>3.160715</td>\n",
       "      <td>95.268204</td>\n",
       "      <td>0.00</td>\n",
       "      <td>0.0000</td>\n",
       "      <td>0.00</td>\n",
       "      <td>0.0000</td>\n",
       "      <td>8237.82</td>\n",
       "    </tr>\n",
       "    <tr>\n",
       "      <th>imp_op_var41_comer_ult1</th>\n",
       "      <td>76020.0</td>\n",
       "      <td>68.803937</td>\n",
       "      <td>319.605516</td>\n",
       "      <td>0.00</td>\n",
       "      <td>0.0000</td>\n",
       "      <td>0.00</td>\n",
       "      <td>0.0000</td>\n",
       "      <td>12888.03</td>\n",
       "    </tr>\n",
       "    <tr>\n",
       "      <th>imp_op_var41_comer_ult3</th>\n",
       "      <td>76020.0</td>\n",
       "      <td>113.056934</td>\n",
       "      <td>512.154823</td>\n",
       "      <td>0.00</td>\n",
       "      <td>0.0000</td>\n",
       "      <td>0.00</td>\n",
       "      <td>0.0000</td>\n",
       "      <td>16566.81</td>\n",
       "    </tr>\n",
       "    <tr>\n",
       "      <th>imp_op_var41_efect_ult1</th>\n",
       "      <td>76020.0</td>\n",
       "      <td>68.205140</td>\n",
       "      <td>531.897917</td>\n",
       "      <td>0.00</td>\n",
       "      <td>0.0000</td>\n",
       "      <td>0.00</td>\n",
       "      <td>0.0000</td>\n",
       "      <td>45990.00</td>\n",
       "    </tr>\n",
       "    <tr>\n",
       "      <th>imp_op_var41_efect_ult3</th>\n",
       "      <td>76020.0</td>\n",
       "      <td>113.225058</td>\n",
       "      <td>950.086398</td>\n",
       "      <td>0.00</td>\n",
       "      <td>0.0000</td>\n",
       "      <td>0.00</td>\n",
       "      <td>0.0000</td>\n",
       "      <td>131100.00</td>\n",
       "    </tr>\n",
       "    <tr>\n",
       "      <th>imp_op_var41_ult1</th>\n",
       "      <td>76020.0</td>\n",
       "      <td>137.242763</td>\n",
       "      <td>697.712596</td>\n",
       "      <td>0.00</td>\n",
       "      <td>0.0000</td>\n",
       "      <td>0.00</td>\n",
       "      <td>0.0000</td>\n",
       "      <td>47598.09</td>\n",
       "    </tr>\n",
       "    <tr>\n",
       "      <th>imp_op_var39_efect_ult1</th>\n",
       "      <td>76020.0</td>\n",
       "      <td>68.618087</td>\n",
       "      <td>535.473750</td>\n",
       "      <td>0.00</td>\n",
       "      <td>0.0000</td>\n",
       "      <td>0.00</td>\n",
       "      <td>0.0000</td>\n",
       "      <td>45990.00</td>\n",
       "    </tr>\n",
       "    <tr>\n",
       "      <th>imp_op_var39_efect_ult3</th>\n",
       "      <td>76020.0</td>\n",
       "      <td>113.792410</td>\n",
       "      <td>953.578624</td>\n",
       "      <td>0.00</td>\n",
       "      <td>0.0000</td>\n",
       "      <td>0.00</td>\n",
       "      <td>0.0000</td>\n",
       "      <td>131100.00</td>\n",
       "    </tr>\n",
       "    <tr>\n",
       "      <th>imp_op_var39_ult1</th>\n",
       "      <td>76020.0</td>\n",
       "      <td>140.403479</td>\n",
       "      <td>712.767240</td>\n",
       "      <td>0.00</td>\n",
       "      <td>0.0000</td>\n",
       "      <td>0.00</td>\n",
       "      <td>0.0000</td>\n",
       "      <td>47598.09</td>\n",
       "    </tr>\n",
       "    <tr>\n",
       "      <th>imp_sal_var16_ult1</th>\n",
       "      <td>76020.0</td>\n",
       "      <td>5.477676</td>\n",
       "      <td>465.391149</td>\n",
       "      <td>0.00</td>\n",
       "      <td>0.0000</td>\n",
       "      <td>0.00</td>\n",
       "      <td>0.0000</td>\n",
       "      <td>105000.00</td>\n",
       "    </tr>\n",
       "    <tr>\n",
       "      <th>ind_var1_0</th>\n",
       "      <td>76020.0</td>\n",
       "      <td>0.011458</td>\n",
       "      <td>0.106425</td>\n",
       "      <td>0.00</td>\n",
       "      <td>0.0000</td>\n",
       "      <td>0.00</td>\n",
       "      <td>0.0000</td>\n",
       "      <td>1.00</td>\n",
       "    </tr>\n",
       "    <tr>\n",
       "      <th>ind_var1</th>\n",
       "      <td>76020.0</td>\n",
       "      <td>0.003762</td>\n",
       "      <td>0.061221</td>\n",
       "      <td>0.00</td>\n",
       "      <td>0.0000</td>\n",
       "      <td>0.00</td>\n",
       "      <td>0.0000</td>\n",
       "      <td>1.00</td>\n",
       "    </tr>\n",
       "    <tr>\n",
       "      <th>ind_var2_0</th>\n",
       "      <td>76020.0</td>\n",
       "      <td>0.000000</td>\n",
       "      <td>0.000000</td>\n",
       "      <td>0.00</td>\n",
       "      <td>0.0000</td>\n",
       "      <td>0.00</td>\n",
       "      <td>0.0000</td>\n",
       "      <td>0.00</td>\n",
       "    </tr>\n",
       "    <tr>\n",
       "      <th>ind_var2</th>\n",
       "      <td>76020.0</td>\n",
       "      <td>0.000000</td>\n",
       "      <td>0.000000</td>\n",
       "      <td>0.00</td>\n",
       "      <td>0.0000</td>\n",
       "      <td>0.00</td>\n",
       "      <td>0.0000</td>\n",
       "      <td>0.00</td>\n",
       "    </tr>\n",
       "    <tr>\n",
       "      <th>ind_var5_0</th>\n",
       "      <td>76020.0</td>\n",
       "      <td>0.958024</td>\n",
       "      <td>0.200535</td>\n",
       "      <td>0.00</td>\n",
       "      <td>1.0000</td>\n",
       "      <td>1.00</td>\n",
       "      <td>1.0000</td>\n",
       "      <td>1.00</td>\n",
       "    </tr>\n",
       "    <tr>\n",
       "      <th>ind_var5</th>\n",
       "      <td>76020.0</td>\n",
       "      <td>0.663760</td>\n",
       "      <td>0.472425</td>\n",
       "      <td>0.00</td>\n",
       "      <td>0.0000</td>\n",
       "      <td>1.00</td>\n",
       "      <td>1.0000</td>\n",
       "      <td>1.00</td>\n",
       "    </tr>\n",
       "    <tr>\n",
       "      <th>ind_var6_0</th>\n",
       "      <td>76020.0</td>\n",
       "      <td>0.000105</td>\n",
       "      <td>0.010258</td>\n",
       "      <td>0.00</td>\n",
       "      <td>0.0000</td>\n",
       "      <td>0.00</td>\n",
       "      <td>0.0000</td>\n",
       "      <td>1.00</td>\n",
       "    </tr>\n",
       "    <tr>\n",
       "      <th>ind_var6</th>\n",
       "      <td>76020.0</td>\n",
       "      <td>0.000026</td>\n",
       "      <td>0.005129</td>\n",
       "      <td>0.00</td>\n",
       "      <td>0.0000</td>\n",
       "      <td>0.00</td>\n",
       "      <td>0.0000</td>\n",
       "      <td>1.00</td>\n",
       "    </tr>\n",
       "    <tr>\n",
       "      <th>ind_var8_0</th>\n",
       "      <td>76020.0</td>\n",
       "      <td>0.032833</td>\n",
       "      <td>0.178202</td>\n",
       "      <td>0.00</td>\n",
       "      <td>0.0000</td>\n",
       "      <td>0.00</td>\n",
       "      <td>0.0000</td>\n",
       "      <td>1.00</td>\n",
       "    </tr>\n",
       "    <tr>\n",
       "      <th>ind_var8</th>\n",
       "      <td>76020.0</td>\n",
       "      <td>0.028598</td>\n",
       "      <td>0.166674</td>\n",
       "      <td>0.00</td>\n",
       "      <td>0.0000</td>\n",
       "      <td>0.00</td>\n",
       "      <td>0.0000</td>\n",
       "      <td>1.00</td>\n",
       "    </tr>\n",
       "    <tr>\n",
       "      <th>...</th>\n",
       "      <td>...</td>\n",
       "      <td>...</td>\n",
       "      <td>...</td>\n",
       "      <td>...</td>\n",
       "      <td>...</td>\n",
       "      <td>...</td>\n",
       "      <td>...</td>\n",
       "      <td>...</td>\n",
       "    </tr>\n",
       "    <tr>\n",
       "      <th>saldo_medio_var13_corto_hace2</th>\n",
       "      <td>76020.0</td>\n",
       "      <td>3639.419939</td>\n",
       "      <td>26359.174223</td>\n",
       "      <td>0.00</td>\n",
       "      <td>0.0000</td>\n",
       "      <td>0.00</td>\n",
       "      <td>0.0000</td>\n",
       "      <td>450000.00</td>\n",
       "    </tr>\n",
       "    <tr>\n",
       "      <th>saldo_medio_var13_corto_hace3</th>\n",
       "      <td>76020.0</td>\n",
       "      <td>556.184178</td>\n",
       "      <td>7182.642532</td>\n",
       "      <td>0.00</td>\n",
       "      <td>0.0000</td>\n",
       "      <td>0.00</td>\n",
       "      <td>0.0000</td>\n",
       "      <td>304838.70</td>\n",
       "    </tr>\n",
       "    <tr>\n",
       "      <th>saldo_medio_var13_corto_ult1</th>\n",
       "      <td>76020.0</td>\n",
       "      <td>4852.261814</td>\n",
       "      <td>31886.615189</td>\n",
       "      <td>0.00</td>\n",
       "      <td>0.0000</td>\n",
       "      <td>0.00</td>\n",
       "      <td>0.0000</td>\n",
       "      <td>450000.00</td>\n",
       "    </tr>\n",
       "    <tr>\n",
       "      <th>saldo_medio_var13_corto_ult3</th>\n",
       "      <td>76020.0</td>\n",
       "      <td>3857.848542</td>\n",
       "      <td>25572.245055</td>\n",
       "      <td>0.00</td>\n",
       "      <td>0.0000</td>\n",
       "      <td>0.00</td>\n",
       "      <td>0.0000</td>\n",
       "      <td>450000.00</td>\n",
       "    </tr>\n",
       "    <tr>\n",
       "      <th>saldo_medio_var13_largo_hace2</th>\n",
       "      <td>76020.0</td>\n",
       "      <td>771.227449</td>\n",
       "      <td>13082.155867</td>\n",
       "      <td>0.00</td>\n",
       "      <td>0.0000</td>\n",
       "      <td>0.00</td>\n",
       "      <td>0.0000</td>\n",
       "      <td>840000.00</td>\n",
       "    </tr>\n",
       "    <tr>\n",
       "      <th>saldo_medio_var13_largo_hace3</th>\n",
       "      <td>76020.0</td>\n",
       "      <td>162.170439</td>\n",
       "      <td>4698.868075</td>\n",
       "      <td>0.00</td>\n",
       "      <td>0.0000</td>\n",
       "      <td>0.00</td>\n",
       "      <td>0.0000</td>\n",
       "      <td>534000.00</td>\n",
       "    </tr>\n",
       "    <tr>\n",
       "      <th>saldo_medio_var13_largo_ult1</th>\n",
       "      <td>76020.0</td>\n",
       "      <td>956.950207</td>\n",
       "      <td>16006.980565</td>\n",
       "      <td>0.00</td>\n",
       "      <td>0.0000</td>\n",
       "      <td>0.00</td>\n",
       "      <td>0.0000</td>\n",
       "      <td>1500000.00</td>\n",
       "    </tr>\n",
       "    <tr>\n",
       "      <th>saldo_medio_var13_largo_ult3</th>\n",
       "      <td>76020.0</td>\n",
       "      <td>750.956273</td>\n",
       "      <td>12422.518373</td>\n",
       "      <td>0.00</td>\n",
       "      <td>0.0000</td>\n",
       "      <td>0.00</td>\n",
       "      <td>0.0000</td>\n",
       "      <td>1034482.74</td>\n",
       "    </tr>\n",
       "    <tr>\n",
       "      <th>saldo_medio_var13_medio_hace2</th>\n",
       "      <td>76020.0</td>\n",
       "      <td>0.175324</td>\n",
       "      <td>34.625518</td>\n",
       "      <td>0.00</td>\n",
       "      <td>0.0000</td>\n",
       "      <td>0.00</td>\n",
       "      <td>0.0000</td>\n",
       "      <td>7741.95</td>\n",
       "    </tr>\n",
       "    <tr>\n",
       "      <th>saldo_medio_var13_medio_hace3</th>\n",
       "      <td>76020.0</td>\n",
       "      <td>0.000000</td>\n",
       "      <td>0.000000</td>\n",
       "      <td>0.00</td>\n",
       "      <td>0.0000</td>\n",
       "      <td>0.00</td>\n",
       "      <td>0.0000</td>\n",
       "      <td>0.00</td>\n",
       "    </tr>\n",
       "    <tr>\n",
       "      <th>saldo_medio_var13_medio_ult1</th>\n",
       "      <td>76020.0</td>\n",
       "      <td>0.513023</td>\n",
       "      <td>113.597559</td>\n",
       "      <td>0.00</td>\n",
       "      <td>0.0000</td>\n",
       "      <td>0.00</td>\n",
       "      <td>0.0000</td>\n",
       "      <td>30000.00</td>\n",
       "    </tr>\n",
       "    <tr>\n",
       "      <th>saldo_medio_var13_medio_ult3</th>\n",
       "      <td>76020.0</td>\n",
       "      <td>0.344174</td>\n",
       "      <td>73.376513</td>\n",
       "      <td>0.00</td>\n",
       "      <td>0.0000</td>\n",
       "      <td>0.00</td>\n",
       "      <td>0.0000</td>\n",
       "      <td>18870.99</td>\n",
       "    </tr>\n",
       "    <tr>\n",
       "      <th>saldo_medio_var17_hace2</th>\n",
       "      <td>76020.0</td>\n",
       "      <td>91.171811</td>\n",
       "      <td>15392.475712</td>\n",
       "      <td>-0.03</td>\n",
       "      <td>0.0000</td>\n",
       "      <td>0.00</td>\n",
       "      <td>0.0000</td>\n",
       "      <td>4210084.23</td>\n",
       "    </tr>\n",
       "    <tr>\n",
       "      <th>saldo_medio_var17_hace3</th>\n",
       "      <td>76020.0</td>\n",
       "      <td>36.463184</td>\n",
       "      <td>8612.395212</td>\n",
       "      <td>0.00</td>\n",
       "      <td>0.0000</td>\n",
       "      <td>0.00</td>\n",
       "      <td>0.0000</td>\n",
       "      <td>2368558.95</td>\n",
       "    </tr>\n",
       "    <tr>\n",
       "      <th>saldo_medio_var17_ult1</th>\n",
       "      <td>76020.0</td>\n",
       "      <td>131.031566</td>\n",
       "      <td>14956.526226</td>\n",
       "      <td>0.00</td>\n",
       "      <td>0.0000</td>\n",
       "      <td>0.00</td>\n",
       "      <td>0.0000</td>\n",
       "      <td>3998687.46</td>\n",
       "    </tr>\n",
       "    <tr>\n",
       "      <th>saldo_medio_var17_ult3</th>\n",
       "      <td>76020.0</td>\n",
       "      <td>109.216944</td>\n",
       "      <td>13082.157458</td>\n",
       "      <td>0.00</td>\n",
       "      <td>0.0000</td>\n",
       "      <td>0.00</td>\n",
       "      <td>0.0000</td>\n",
       "      <td>3525776.88</td>\n",
       "    </tr>\n",
       "    <tr>\n",
       "      <th>saldo_medio_var29_hace2</th>\n",
       "      <td>76020.0</td>\n",
       "      <td>0.213071</td>\n",
       "      <td>41.820444</td>\n",
       "      <td>0.00</td>\n",
       "      <td>0.0000</td>\n",
       "      <td>0.00</td>\n",
       "      <td>0.0000</td>\n",
       "      <td>10430.01</td>\n",
       "    </tr>\n",
       "    <tr>\n",
       "      <th>saldo_medio_var29_hace3</th>\n",
       "      <td>76020.0</td>\n",
       "      <td>0.001910</td>\n",
       "      <td>0.526626</td>\n",
       "      <td>0.00</td>\n",
       "      <td>0.0000</td>\n",
       "      <td>0.00</td>\n",
       "      <td>0.0000</td>\n",
       "      <td>145.20</td>\n",
       "    </tr>\n",
       "    <tr>\n",
       "      <th>saldo_medio_var29_ult1</th>\n",
       "      <td>76020.0</td>\n",
       "      <td>0.253907</td>\n",
       "      <td>52.078775</td>\n",
       "      <td>0.00</td>\n",
       "      <td>0.0000</td>\n",
       "      <td>0.00</td>\n",
       "      <td>0.0000</td>\n",
       "      <td>13793.67</td>\n",
       "    </tr>\n",
       "    <tr>\n",
       "      <th>saldo_medio_var29_ult3</th>\n",
       "      <td>76020.0</td>\n",
       "      <td>0.186630</td>\n",
       "      <td>31.879418</td>\n",
       "      <td>0.00</td>\n",
       "      <td>0.0000</td>\n",
       "      <td>0.00</td>\n",
       "      <td>0.0000</td>\n",
       "      <td>7331.34</td>\n",
       "    </tr>\n",
       "    <tr>\n",
       "      <th>saldo_medio_var33_hace2</th>\n",
       "      <td>76020.0</td>\n",
       "      <td>7.935824</td>\n",
       "      <td>455.887218</td>\n",
       "      <td>0.00</td>\n",
       "      <td>0.0000</td>\n",
       "      <td>0.00</td>\n",
       "      <td>0.0000</td>\n",
       "      <td>50003.88</td>\n",
       "    </tr>\n",
       "    <tr>\n",
       "      <th>saldo_medio_var33_hace3</th>\n",
       "      <td>76020.0</td>\n",
       "      <td>1.365146</td>\n",
       "      <td>113.959637</td>\n",
       "      <td>0.00</td>\n",
       "      <td>0.0000</td>\n",
       "      <td>0.00</td>\n",
       "      <td>0.0000</td>\n",
       "      <td>20385.72</td>\n",
       "    </tr>\n",
       "    <tr>\n",
       "      <th>saldo_medio_var33_ult1</th>\n",
       "      <td>76020.0</td>\n",
       "      <td>12.215580</td>\n",
       "      <td>783.207399</td>\n",
       "      <td>0.00</td>\n",
       "      <td>0.0000</td>\n",
       "      <td>0.00</td>\n",
       "      <td>0.0000</td>\n",
       "      <td>138831.63</td>\n",
       "    </tr>\n",
       "    <tr>\n",
       "      <th>saldo_medio_var33_ult3</th>\n",
       "      <td>76020.0</td>\n",
       "      <td>8.784074</td>\n",
       "      <td>538.439211</td>\n",
       "      <td>0.00</td>\n",
       "      <td>0.0000</td>\n",
       "      <td>0.00</td>\n",
       "      <td>0.0000</td>\n",
       "      <td>91778.73</td>\n",
       "    </tr>\n",
       "    <tr>\n",
       "      <th>saldo_medio_var44_hace2</th>\n",
       "      <td>76020.0</td>\n",
       "      <td>31.505324</td>\n",
       "      <td>2013.125393</td>\n",
       "      <td>0.00</td>\n",
       "      <td>0.0000</td>\n",
       "      <td>0.00</td>\n",
       "      <td>0.0000</td>\n",
       "      <td>438329.22</td>\n",
       "    </tr>\n",
       "    <tr>\n",
       "      <th>saldo_medio_var44_hace3</th>\n",
       "      <td>76020.0</td>\n",
       "      <td>1.858575</td>\n",
       "      <td>147.786584</td>\n",
       "      <td>0.00</td>\n",
       "      <td>0.0000</td>\n",
       "      <td>0.00</td>\n",
       "      <td>0.0000</td>\n",
       "      <td>24650.01</td>\n",
       "    </tr>\n",
       "    <tr>\n",
       "      <th>saldo_medio_var44_ult1</th>\n",
       "      <td>76020.0</td>\n",
       "      <td>76.026165</td>\n",
       "      <td>4040.337842</td>\n",
       "      <td>0.00</td>\n",
       "      <td>0.0000</td>\n",
       "      <td>0.00</td>\n",
       "      <td>0.0000</td>\n",
       "      <td>681462.90</td>\n",
       "    </tr>\n",
       "    <tr>\n",
       "      <th>saldo_medio_var44_ult3</th>\n",
       "      <td>76020.0</td>\n",
       "      <td>56.614351</td>\n",
       "      <td>2852.579397</td>\n",
       "      <td>0.00</td>\n",
       "      <td>0.0000</td>\n",
       "      <td>0.00</td>\n",
       "      <td>0.0000</td>\n",
       "      <td>397884.30</td>\n",
       "    </tr>\n",
       "    <tr>\n",
       "      <th>var38</th>\n",
       "      <td>76020.0</td>\n",
       "      <td>117235.809430</td>\n",
       "      <td>182664.598503</td>\n",
       "      <td>5163.75</td>\n",
       "      <td>67870.6125</td>\n",
       "      <td>106409.16</td>\n",
       "      <td>118756.2525</td>\n",
       "      <td>22034738.76</td>\n",
       "    </tr>\n",
       "    <tr>\n",
       "      <th>TARGET</th>\n",
       "      <td>76020.0</td>\n",
       "      <td>0.039569</td>\n",
       "      <td>0.194945</td>\n",
       "      <td>0.00</td>\n",
       "      <td>0.0000</td>\n",
       "      <td>0.00</td>\n",
       "      <td>0.0000</td>\n",
       "      <td>1.00</td>\n",
       "    </tr>\n",
       "  </tbody>\n",
       "</table>\n",
       "<p>371 rows × 8 columns</p>\n",
       "</div>"
      ],
      "text/plain": [
       "                                 count           mean            std  \\\n",
       "ID                             76020.0   75964.050723   43781.947379   \n",
       "var3                           76020.0   -1523.199277   39033.462364   \n",
       "var15                          76020.0      33.212865      12.956486   \n",
       "imp_ent_var16_ult1             76020.0      86.208265    1614.757313   \n",
       "imp_op_var39_comer_ult1        76020.0      72.363067     339.315831   \n",
       "imp_op_var39_comer_ult3        76020.0     119.529632     546.266294   \n",
       "imp_op_var40_comer_ult1        76020.0       3.559130      93.155749   \n",
       "imp_op_var40_comer_ult3        76020.0       6.472698     153.737066   \n",
       "imp_op_var40_efect_ult1        76020.0       0.412946      30.604864   \n",
       "imp_op_var40_efect_ult3        76020.0       0.567352      36.513513   \n",
       "imp_op_var40_ult1              76020.0       3.160715      95.268204   \n",
       "imp_op_var41_comer_ult1        76020.0      68.803937     319.605516   \n",
       "imp_op_var41_comer_ult3        76020.0     113.056934     512.154823   \n",
       "imp_op_var41_efect_ult1        76020.0      68.205140     531.897917   \n",
       "imp_op_var41_efect_ult3        76020.0     113.225058     950.086398   \n",
       "imp_op_var41_ult1              76020.0     137.242763     697.712596   \n",
       "imp_op_var39_efect_ult1        76020.0      68.618087     535.473750   \n",
       "imp_op_var39_efect_ult3        76020.0     113.792410     953.578624   \n",
       "imp_op_var39_ult1              76020.0     140.403479     712.767240   \n",
       "imp_sal_var16_ult1             76020.0       5.477676     465.391149   \n",
       "ind_var1_0                     76020.0       0.011458       0.106425   \n",
       "ind_var1                       76020.0       0.003762       0.061221   \n",
       "ind_var2_0                     76020.0       0.000000       0.000000   \n",
       "ind_var2                       76020.0       0.000000       0.000000   \n",
       "ind_var5_0                     76020.0       0.958024       0.200535   \n",
       "ind_var5                       76020.0       0.663760       0.472425   \n",
       "ind_var6_0                     76020.0       0.000105       0.010258   \n",
       "ind_var6                       76020.0       0.000026       0.005129   \n",
       "ind_var8_0                     76020.0       0.032833       0.178202   \n",
       "ind_var8                       76020.0       0.028598       0.166674   \n",
       "...                                ...            ...            ...   \n",
       "saldo_medio_var13_corto_hace2  76020.0    3639.419939   26359.174223   \n",
       "saldo_medio_var13_corto_hace3  76020.0     556.184178    7182.642532   \n",
       "saldo_medio_var13_corto_ult1   76020.0    4852.261814   31886.615189   \n",
       "saldo_medio_var13_corto_ult3   76020.0    3857.848542   25572.245055   \n",
       "saldo_medio_var13_largo_hace2  76020.0     771.227449   13082.155867   \n",
       "saldo_medio_var13_largo_hace3  76020.0     162.170439    4698.868075   \n",
       "saldo_medio_var13_largo_ult1   76020.0     956.950207   16006.980565   \n",
       "saldo_medio_var13_largo_ult3   76020.0     750.956273   12422.518373   \n",
       "saldo_medio_var13_medio_hace2  76020.0       0.175324      34.625518   \n",
       "saldo_medio_var13_medio_hace3  76020.0       0.000000       0.000000   \n",
       "saldo_medio_var13_medio_ult1   76020.0       0.513023     113.597559   \n",
       "saldo_medio_var13_medio_ult3   76020.0       0.344174      73.376513   \n",
       "saldo_medio_var17_hace2        76020.0      91.171811   15392.475712   \n",
       "saldo_medio_var17_hace3        76020.0      36.463184    8612.395212   \n",
       "saldo_medio_var17_ult1         76020.0     131.031566   14956.526226   \n",
       "saldo_medio_var17_ult3         76020.0     109.216944   13082.157458   \n",
       "saldo_medio_var29_hace2        76020.0       0.213071      41.820444   \n",
       "saldo_medio_var29_hace3        76020.0       0.001910       0.526626   \n",
       "saldo_medio_var29_ult1         76020.0       0.253907      52.078775   \n",
       "saldo_medio_var29_ult3         76020.0       0.186630      31.879418   \n",
       "saldo_medio_var33_hace2        76020.0       7.935824     455.887218   \n",
       "saldo_medio_var33_hace3        76020.0       1.365146     113.959637   \n",
       "saldo_medio_var33_ult1         76020.0      12.215580     783.207399   \n",
       "saldo_medio_var33_ult3         76020.0       8.784074     538.439211   \n",
       "saldo_medio_var44_hace2        76020.0      31.505324    2013.125393   \n",
       "saldo_medio_var44_hace3        76020.0       1.858575     147.786584   \n",
       "saldo_medio_var44_ult1         76020.0      76.026165    4040.337842   \n",
       "saldo_medio_var44_ult3         76020.0      56.614351    2852.579397   \n",
       "var38                          76020.0  117235.809430  182664.598503   \n",
       "TARGET                         76020.0       0.039569       0.194945   \n",
       "\n",
       "                                     min         25%        50%          75%  \\\n",
       "ID                                  1.00  38104.7500   76043.00  113748.7500   \n",
       "var3                          -999999.00      2.0000       2.00       2.0000   \n",
       "var15                               5.00     23.0000      28.00      40.0000   \n",
       "imp_ent_var16_ult1                  0.00      0.0000       0.00       0.0000   \n",
       "imp_op_var39_comer_ult1             0.00      0.0000       0.00       0.0000   \n",
       "imp_op_var39_comer_ult3             0.00      0.0000       0.00       0.0000   \n",
       "imp_op_var40_comer_ult1             0.00      0.0000       0.00       0.0000   \n",
       "imp_op_var40_comer_ult3             0.00      0.0000       0.00       0.0000   \n",
       "imp_op_var40_efect_ult1             0.00      0.0000       0.00       0.0000   \n",
       "imp_op_var40_efect_ult3             0.00      0.0000       0.00       0.0000   \n",
       "imp_op_var40_ult1                   0.00      0.0000       0.00       0.0000   \n",
       "imp_op_var41_comer_ult1             0.00      0.0000       0.00       0.0000   \n",
       "imp_op_var41_comer_ult3             0.00      0.0000       0.00       0.0000   \n",
       "imp_op_var41_efect_ult1             0.00      0.0000       0.00       0.0000   \n",
       "imp_op_var41_efect_ult3             0.00      0.0000       0.00       0.0000   \n",
       "imp_op_var41_ult1                   0.00      0.0000       0.00       0.0000   \n",
       "imp_op_var39_efect_ult1             0.00      0.0000       0.00       0.0000   \n",
       "imp_op_var39_efect_ult3             0.00      0.0000       0.00       0.0000   \n",
       "imp_op_var39_ult1                   0.00      0.0000       0.00       0.0000   \n",
       "imp_sal_var16_ult1                  0.00      0.0000       0.00       0.0000   \n",
       "ind_var1_0                          0.00      0.0000       0.00       0.0000   \n",
       "ind_var1                            0.00      0.0000       0.00       0.0000   \n",
       "ind_var2_0                          0.00      0.0000       0.00       0.0000   \n",
       "ind_var2                            0.00      0.0000       0.00       0.0000   \n",
       "ind_var5_0                          0.00      1.0000       1.00       1.0000   \n",
       "ind_var5                            0.00      0.0000       1.00       1.0000   \n",
       "ind_var6_0                          0.00      0.0000       0.00       0.0000   \n",
       "ind_var6                            0.00      0.0000       0.00       0.0000   \n",
       "ind_var8_0                          0.00      0.0000       0.00       0.0000   \n",
       "ind_var8                            0.00      0.0000       0.00       0.0000   \n",
       "...                                  ...         ...        ...          ...   \n",
       "saldo_medio_var13_corto_hace2       0.00      0.0000       0.00       0.0000   \n",
       "saldo_medio_var13_corto_hace3       0.00      0.0000       0.00       0.0000   \n",
       "saldo_medio_var13_corto_ult1        0.00      0.0000       0.00       0.0000   \n",
       "saldo_medio_var13_corto_ult3        0.00      0.0000       0.00       0.0000   \n",
       "saldo_medio_var13_largo_hace2       0.00      0.0000       0.00       0.0000   \n",
       "saldo_medio_var13_largo_hace3       0.00      0.0000       0.00       0.0000   \n",
       "saldo_medio_var13_largo_ult1        0.00      0.0000       0.00       0.0000   \n",
       "saldo_medio_var13_largo_ult3        0.00      0.0000       0.00       0.0000   \n",
       "saldo_medio_var13_medio_hace2       0.00      0.0000       0.00       0.0000   \n",
       "saldo_medio_var13_medio_hace3       0.00      0.0000       0.00       0.0000   \n",
       "saldo_medio_var13_medio_ult1        0.00      0.0000       0.00       0.0000   \n",
       "saldo_medio_var13_medio_ult3        0.00      0.0000       0.00       0.0000   \n",
       "saldo_medio_var17_hace2            -0.03      0.0000       0.00       0.0000   \n",
       "saldo_medio_var17_hace3             0.00      0.0000       0.00       0.0000   \n",
       "saldo_medio_var17_ult1              0.00      0.0000       0.00       0.0000   \n",
       "saldo_medio_var17_ult3              0.00      0.0000       0.00       0.0000   \n",
       "saldo_medio_var29_hace2             0.00      0.0000       0.00       0.0000   \n",
       "saldo_medio_var29_hace3             0.00      0.0000       0.00       0.0000   \n",
       "saldo_medio_var29_ult1              0.00      0.0000       0.00       0.0000   \n",
       "saldo_medio_var29_ult3              0.00      0.0000       0.00       0.0000   \n",
       "saldo_medio_var33_hace2             0.00      0.0000       0.00       0.0000   \n",
       "saldo_medio_var33_hace3             0.00      0.0000       0.00       0.0000   \n",
       "saldo_medio_var33_ult1              0.00      0.0000       0.00       0.0000   \n",
       "saldo_medio_var33_ult3              0.00      0.0000       0.00       0.0000   \n",
       "saldo_medio_var44_hace2             0.00      0.0000       0.00       0.0000   \n",
       "saldo_medio_var44_hace3             0.00      0.0000       0.00       0.0000   \n",
       "saldo_medio_var44_ult1              0.00      0.0000       0.00       0.0000   \n",
       "saldo_medio_var44_ult3              0.00      0.0000       0.00       0.0000   \n",
       "var38                            5163.75  67870.6125  106409.16  118756.2525   \n",
       "TARGET                              0.00      0.0000       0.00       0.0000   \n",
       "\n",
       "                                       max  \n",
       "ID                               151838.00  \n",
       "var3                                238.00  \n",
       "var15                               105.00  \n",
       "imp_ent_var16_ult1               210000.00  \n",
       "imp_op_var39_comer_ult1           12888.03  \n",
       "imp_op_var39_comer_ult3           21024.81  \n",
       "imp_op_var40_comer_ult1            8237.82  \n",
       "imp_op_var40_comer_ult3           11073.57  \n",
       "imp_op_var40_efect_ult1            6600.00  \n",
       "imp_op_var40_efect_ult3            6600.00  \n",
       "imp_op_var40_ult1                  8237.82  \n",
       "imp_op_var41_comer_ult1           12888.03  \n",
       "imp_op_var41_comer_ult3           16566.81  \n",
       "imp_op_var41_efect_ult1           45990.00  \n",
       "imp_op_var41_efect_ult3          131100.00  \n",
       "imp_op_var41_ult1                 47598.09  \n",
       "imp_op_var39_efect_ult1           45990.00  \n",
       "imp_op_var39_efect_ult3          131100.00  \n",
       "imp_op_var39_ult1                 47598.09  \n",
       "imp_sal_var16_ult1               105000.00  \n",
       "ind_var1_0                            1.00  \n",
       "ind_var1                              1.00  \n",
       "ind_var2_0                            0.00  \n",
       "ind_var2                              0.00  \n",
       "ind_var5_0                            1.00  \n",
       "ind_var5                              1.00  \n",
       "ind_var6_0                            1.00  \n",
       "ind_var6                              1.00  \n",
       "ind_var8_0                            1.00  \n",
       "ind_var8                              1.00  \n",
       "...                                    ...  \n",
       "saldo_medio_var13_corto_hace2    450000.00  \n",
       "saldo_medio_var13_corto_hace3    304838.70  \n",
       "saldo_medio_var13_corto_ult1     450000.00  \n",
       "saldo_medio_var13_corto_ult3     450000.00  \n",
       "saldo_medio_var13_largo_hace2    840000.00  \n",
       "saldo_medio_var13_largo_hace3    534000.00  \n",
       "saldo_medio_var13_largo_ult1    1500000.00  \n",
       "saldo_medio_var13_largo_ult3    1034482.74  \n",
       "saldo_medio_var13_medio_hace2      7741.95  \n",
       "saldo_medio_var13_medio_hace3         0.00  \n",
       "saldo_medio_var13_medio_ult1      30000.00  \n",
       "saldo_medio_var13_medio_ult3      18870.99  \n",
       "saldo_medio_var17_hace2         4210084.23  \n",
       "saldo_medio_var17_hace3         2368558.95  \n",
       "saldo_medio_var17_ult1          3998687.46  \n",
       "saldo_medio_var17_ult3          3525776.88  \n",
       "saldo_medio_var29_hace2           10430.01  \n",
       "saldo_medio_var29_hace3             145.20  \n",
       "saldo_medio_var29_ult1            13793.67  \n",
       "saldo_medio_var29_ult3             7331.34  \n",
       "saldo_medio_var33_hace2           50003.88  \n",
       "saldo_medio_var33_hace3           20385.72  \n",
       "saldo_medio_var33_ult1           138831.63  \n",
       "saldo_medio_var33_ult3            91778.73  \n",
       "saldo_medio_var44_hace2          438329.22  \n",
       "saldo_medio_var44_hace3           24650.01  \n",
       "saldo_medio_var44_ult1           681462.90  \n",
       "saldo_medio_var44_ult3           397884.30  \n",
       "var38                          22034738.76  \n",
       "TARGET                                1.00  \n",
       "\n",
       "[371 rows x 8 columns]"
      ]
     },
     "execution_count": 4,
     "metadata": {},
     "output_type": "execute_result"
    }
   ],
   "source": [
    "#Оценим считанные данные\n",
    "train.describe().transpose()\n"
   ]
  },
  {
   "cell_type": "markdown",
   "metadata": {},
   "source": [
    "Всего признаков очень много, причем все они анонимные, таким образом в расшировке его значения можно полагаться лишь\n",
    "на его значение и название, а так же обсуждения участников соревнования.<br>\n",
    "Некоторые из них уже удалось расшифровать:<br>\n",
    "https://www.kaggle.com/cast42/exploring-features#num_var4-:-number-of-bank-products<br>\n",
    "Признаки, начинающиеся на 'ind' обозначают какие-либо индексы, меняясь между 0 и 1. Сказать, что эти индексы означают\n",
    "точно не могу.\n",
    "Из переводу гугла я нашел, что 'saldo medio' - 'average amount', 'corto' - 'short time', 'largo' - 'long time'.\n",
    "К тому же \"Сальдо\" - тоже известный термин, означающий разницу между поступлениями и расходами на счет. Таким образом\n",
    "можно предположить, что эти переменные относятся к изменению баланса счетов клиентов за определенные промежутки времени.\n",
    "Но почему их так много и каких именно счетов это изменения пока не понятно"
   ]
  },
  {
   "cell_type": "markdown",
   "metadata": {},
   "source": [
    "В целом понять, пропущенное это значение, или валидное довольно сложно, так как неизвестен физический смысл переменной, а значит и область ее значений.\n",
    "Но в признаке var3 выбросы отмечены явно (-999999). Возможно, пропущенных значений больше нет, иначе они были бы отмечены подобным образом.\n"
   ]
  },
  {
   "cell_type": "markdown",
   "metadata": {},
   "source": [
    "## Var3"
   ]
  },
  {
   "cell_type": "markdown",
   "metadata": {},
   "source": [
    " var3 предполагается как национальность клиентов банка, поэтому -999999 является fill значением, которое нужно обработать"
   ]
  },
  {
   "cell_type": "code",
   "execution_count": 5,
   "metadata": {},
   "outputs": [
    {
     "data": {
      "text/plain": [
       " 2         74165\n",
       " 8           138\n",
       "-999999      116\n",
       " 9           110\n",
       " 3           108\n",
       " 1           105\n",
       " 13           98\n",
       " 7            97\n",
       " 4            86\n",
       " 12           85\n",
       " 6            82\n",
       " 0            75\n",
       " 10           72\n",
       " 11           66\n",
       " 5            63\n",
       "Name: var3, dtype: int64"
      ]
     },
     "execution_count": 5,
     "metadata": {},
     "output_type": "execute_result"
    }
   ],
   "source": [
    "train['var3'].value_counts()[:15]\n"
   ]
  },
  {
   "cell_type": "markdown",
   "metadata": {},
   "source": [
    "Подавляющее кол-во клиентов имеет национальность 2"
   ]
  },
  {
   "cell_type": "code",
   "execution_count": 6,
   "metadata": {},
   "outputs": [],
   "source": [
    "train = train.replace(-999999,2)"
   ]
  },
  {
   "cell_type": "markdown",
   "metadata": {},
   "source": [
    "Замена самым популярным обусловлена тем, что этот признак категориальный (национальность)"
   ]
  },
  {
   "cell_type": "code",
   "execution_count": 7,
   "metadata": {},
   "outputs": [
    {
     "data": {
      "text/plain": [
       "(0, 371)"
      ]
     },
     "execution_count": 7,
     "metadata": {},
     "output_type": "execute_result"
    }
   ],
   "source": [
    "train[train.var3==-999999].shape"
   ]
  },
  {
   "cell_type": "markdown",
   "metadata": {},
   "source": [
    "## Var4"
   ]
  },
  {
   "cell_type": "markdown",
   "metadata": {},
   "source": [
    "num_var4, судя по обсуждению, предполагается как количество приобретенных продуктов у банка\n",
    "но вполне может быть и не так. В любом случае, рассмотрим этот признак подробнее"
   ]
  },
  {
   "cell_type": "code",
   "execution_count": 8,
   "metadata": {},
   "outputs": [
    {
     "data": {
      "image/png": "[encoded data removed]",
      "text/plain": [
       "<Figure size 432x288 with 1 Axes>"
      ]
     },
     "metadata": {
      "needs_background": "light"
     },
     "output_type": "display_data"
    }
   ],
   "source": [
    "\n",
    "train.num_var4.hist(bins=30)\n",
    "plt.xlabel('Number of bank products')\n",
    "plt.ylabel('Number of customers in train')\n",
    "plt.show()"
   ]
  },
  {
   "cell_type": "markdown",
   "metadata": {},
   "source": [
    "Большинство клиентов имеют лишь один продукт. Странно, что это переменная так же обладает нулевым значением.\n",
    "Возможно, я не совсем правильно понял интерпретацию."
   ]
  },
  {
   "cell_type": "code",
   "execution_count": 9,
   "metadata": {},
   "outputs": [
    {
     "data": {
      "text/plain": [
       "Text(0, 0.5, 'Number of unsatisfied customers in train')"
      ]
     },
     "execution_count": 9,
     "metadata": {},
     "output_type": "execute_result"
    },
    {
     "data": {
      "image/png": "[encoded data removed]",
      "text/plain": [
       "<Figure size 432x288 with 1 Axes>"
      ]
     },
     "metadata": {
      "needs_background": "light"
     },
     "output_type": "display_data"
    }
   ],
   "source": [
    "train[train.TARGET==1].num_var4.hist(bins=15)\n",
    "plt.xlabel('Number of bank products')\n",
    "plt.ylabel('Number of unsatisfied customers in train')"
   ]
  },
  {
   "cell_type": "markdown",
   "metadata": {},
   "source": [
    "Но среди недовольных клиентов большинство не имеют продуктов банка. (???)"
   ]
  },
  {
   "cell_type": "markdown",
   "metadata": {},
   "source": [
    "## Var15"
   ]
  },
  {
   "cell_type": "markdown",
   "metadata": {},
   "source": [
    "var15 - возраст клиента(предположительно)"
   ]
  },
  {
   "cell_type": "code",
   "execution_count": 10,
   "metadata": {},
   "outputs": [
    {
     "data": {
      "text/plain": [
       "<matplotlib.axes._subplots.AxesSubplot at 0x1389d828>"
      ]
     },
     "execution_count": 10,
     "metadata": {},
     "output_type": "execute_result"
    },
    {
     "data": {
      "image/png": "[encoded data removed]",
      "text/plain": [
       "<Figure size 432x288 with 1 Axes>"
      ]
     },
     "metadata": {
      "needs_background": "light"
     },
     "output_type": "display_data"
    }
   ],
   "source": [
    "\n",
    "train['var15'].hist(bins=25)"
   ]
  },
  {
   "cell_type": "markdown",
   "metadata": {},
   "source": [
    "Больш-во клиентов молодые (а учитывая, что специалисты людей до 45 считают молодыми - подавляющее боль-во)"
   ]
  },
  {
   "cell_type": "code",
   "execution_count": 11,
   "metadata": {},
   "outputs": [
    {
     "name": "stderr",
     "output_type": "stream",
     "text": [
      "D:\\Anaconda\\envs\\facebook_RCNN\\lib\\site-packages\\seaborn\\axisgrid.py:230: UserWarning: The `size` paramter has been renamed to `height`; please update your code.\n",
      "  warnings.warn(msg, UserWarning)\n"
     ]
    },
    {
     "data": {
      "image/png": "[encoded data removed]",
      "text/plain": [
       "<Figure size 479.75x432 with 1 Axes>"
      ]
     },
     "metadata": {
      "needs_background": "light"
     },
     "output_type": "display_data"
    }
   ],
   "source": [
    "sns.FacetGrid(train, hue=\"TARGET\", size=6) \\\n",
    "   .map(sns.kdeplot, \"var15\") \\\n",
    "   .add_legend()\n",
    "plt.title('Возраст');"
   ]
  },
  {
   "cell_type": "markdown",
   "metadata": {},
   "source": [
    "Недовольные клиенты в основном старше довольных."
   ]
  },
  {
   "cell_type": "markdown",
   "metadata": {},
   "source": [
    "Пока что это все расшифрованные признаки с точной интерпретацией, что я нашел. Наверняка их больше."
   ]
  },
  {
   "cell_type": "markdown",
   "metadata": {},
   "source": [
    "## Дизбаланс классов"
   ]
  },
  {
   "cell_type": "code",
   "execution_count": 12,
   "metadata": {},
   "outputs": [
    {
     "data": {
      "text/plain": [
       "<matplotlib.axes._subplots.AxesSubplot at 0x13aeddd8>"
      ]
     },
     "execution_count": 12,
     "metadata": {},
     "output_type": "execute_result"
    },
    {
     "data": {
      "image/png": "[encoded data removed]",
      "text/plain": [
       "<Figure size 432x288 with 1 Axes>"
      ]
     },
     "metadata": {
      "needs_background": "light"
     },
     "output_type": "display_data"
    }
   ],
   "source": [
    "sns.countplot(train['TARGET'])"
   ]
  },
  {
   "cell_type": "code",
   "execution_count": 13,
   "metadata": {},
   "outputs": [
    {
     "data": {
      "text/html": [
       "<div>\n",
       "<style scoped>\n",
       "    .dataframe tbody tr th:only-of-type {\n",
       "        vertical-align: middle;\n",
       "    }\n",
       "\n",
       "    .dataframe tbody tr th {\n",
       "        vertical-align: top;\n",
       "    }\n",
       "\n",
       "    .dataframe thead th {\n",
       "        text-align: right;\n",
       "    }\n",
       "</style>\n",
       "<table border=\"1\" class=\"dataframe\">\n",
       "  <thead>\n",
       "    <tr style=\"text-align: right;\">\n",
       "      <th></th>\n",
       "      <th>TARGET</th>\n",
       "      <th>Percentage</th>\n",
       "    </tr>\n",
       "  </thead>\n",
       "  <tbody>\n",
       "    <tr>\n",
       "      <th>0</th>\n",
       "      <td>73012</td>\n",
       "      <td>96.043147</td>\n",
       "    </tr>\n",
       "    <tr>\n",
       "      <th>1</th>\n",
       "      <td>3008</td>\n",
       "      <td>3.956853</td>\n",
       "    </tr>\n",
       "  </tbody>\n",
       "</table>\n",
       "</div>"
      ],
      "text/plain": [
       "   TARGET  Percentage\n",
       "0   73012   96.043147\n",
       "1    3008    3.956853"
      ]
     },
     "execution_count": 13,
     "metadata": {},
     "output_type": "execute_result"
    }
   ],
   "source": [
    "df = pd.DataFrame(train.TARGET.value_counts())\n",
    "df['Percentage'] = 100*df['TARGET']/train.shape[0]\n",
    "df"
   ]
  },
  {
   "cell_type": "code",
   "execution_count": null,
   "metadata": {},
   "outputs": [],
   "source": []
  },
  {
   "cell_type": "markdown",
   "metadata": {},
   "source": [
    "## Корреляция"
   ]
  },
  {
   "cell_type": "code",
   "execution_count": 14,
   "metadata": {},
   "outputs": [
    {
     "data": {
      "image/png": "[encoded data removed]",
      "text/plain": [
       "<Figure size 1296x1080 with 2 Axes>"
      ]
     },
     "metadata": {
      "needs_background": "light"
     },
     "output_type": "display_data"
    }
   ],
   "source": [
    "cor_mat = train.corr()\n",
    "f, ax = plt.subplots(figsize=(18, 15))\n",
    "# Draw the heatmap with the mask and correct aspect ratio\n",
    "sns.heatmap(cor_mat, ax=ax);"
   ]
  },
  {
   "cell_type": "code",
   "execution_count": 15,
   "metadata": {},
   "outputs": [
    {
     "data": {
      "text/html": [
       "<div>\n",
       "<style scoped>\n",
       "    .dataframe tbody tr th:only-of-type {\n",
       "        vertical-align: middle;\n",
       "    }\n",
       "\n",
       "    .dataframe tbody tr th {\n",
       "        vertical-align: top;\n",
       "    }\n",
       "\n",
       "    .dataframe thead th {\n",
       "        text-align: right;\n",
       "    }\n",
       "</style>\n",
       "<table border=\"1\" class=\"dataframe\">\n",
       "  <thead>\n",
       "    <tr style=\"text-align: right;\">\n",
       "      <th></th>\n",
       "      <th>attribute pair</th>\n",
       "      <th>correlation</th>\n",
       "    </tr>\n",
       "  </thead>\n",
       "  <tbody>\n",
       "    <tr>\n",
       "      <th>467</th>\n",
       "      <td>(ind_var6, num_var6)</td>\n",
       "      <td>1.000000</td>\n",
       "    </tr>\n",
       "    <tr>\n",
       "      <th>530</th>\n",
       "      <td>(ind_var6, num_var29)</td>\n",
       "      <td>1.000000</td>\n",
       "    </tr>\n",
       "    <tr>\n",
       "      <th>493</th>\n",
       "      <td>(ind_var29, num_var29)</td>\n",
       "      <td>1.000000</td>\n",
       "    </tr>\n",
       "    <tr>\n",
       "      <th>92</th>\n",
       "      <td>(ind_var29, num_var6)</td>\n",
       "      <td>1.000000</td>\n",
       "    </tr>\n",
       "    <tr>\n",
       "      <th>184</th>\n",
       "      <td>(delta_imp_trasp_var33_out_1y3, num_trasp_var3...</td>\n",
       "      <td>1.000000</td>\n",
       "    </tr>\n",
       "    <tr>\n",
       "      <th>654</th>\n",
       "      <td>(delta_num_trasp_var33_out_1y3, num_trasp_var3...</td>\n",
       "      <td>1.000000</td>\n",
       "    </tr>\n",
       "    <tr>\n",
       "      <th>101</th>\n",
       "      <td>(delta_num_reemb_var33_1y3, num_reemb_var33_ult1)</td>\n",
       "      <td>1.000000</td>\n",
       "    </tr>\n",
       "    <tr>\n",
       "      <th>14</th>\n",
       "      <td>(delta_imp_reemb_var33_1y3, num_reemb_var33_ult1)</td>\n",
       "      <td>1.000000</td>\n",
       "    </tr>\n",
       "    <tr>\n",
       "      <th>439</th>\n",
       "      <td>(ind_var20_0, num_var20_0)</td>\n",
       "      <td>1.000000</td>\n",
       "    </tr>\n",
       "    <tr>\n",
       "      <th>89</th>\n",
       "      <td>(delta_num_reemb_var13_1y3, num_reemb_var13_ult1)</td>\n",
       "      <td>1.000000</td>\n",
       "    </tr>\n",
       "    <tr>\n",
       "      <th>124</th>\n",
       "      <td>(delta_imp_reemb_var13_1y3, num_reemb_var13_ult1)</td>\n",
       "      <td>1.000000</td>\n",
       "    </tr>\n",
       "    <tr>\n",
       "      <th>637</th>\n",
       "      <td>(ind_var20, num_var20)</td>\n",
       "      <td>1.000000</td>\n",
       "    </tr>\n",
       "    <tr>\n",
       "      <th>545</th>\n",
       "      <td>(num_meses_var13_medio_ult3, num_var13_medio)</td>\n",
       "      <td>1.000000</td>\n",
       "    </tr>\n",
       "    <tr>\n",
       "      <th>215</th>\n",
       "      <td>(ind_var13_medio, num_var13_medio_0)</td>\n",
       "      <td>1.000000</td>\n",
       "    </tr>\n",
       "    <tr>\n",
       "      <th>167</th>\n",
       "      <td>(ind_var13_medio, num_var13_medio)</td>\n",
       "      <td>1.000000</td>\n",
       "    </tr>\n",
       "    <tr>\n",
       "      <th>249</th>\n",
       "      <td>(num_meses_var13_medio_ult3, num_var13_medio_0)</td>\n",
       "      <td>1.000000</td>\n",
       "    </tr>\n",
       "    <tr>\n",
       "      <th>641</th>\n",
       "      <td>(ind_var13_medio_0, num_var13_medio_0)</td>\n",
       "      <td>1.000000</td>\n",
       "    </tr>\n",
       "    <tr>\n",
       "      <th>406</th>\n",
       "      <td>(ind_var13_medio_0, num_var13_medio)</td>\n",
       "      <td>1.000000</td>\n",
       "    </tr>\n",
       "    <tr>\n",
       "      <th>495</th>\n",
       "      <td>(delta_imp_amort_var18_1y3, num_var18)</td>\n",
       "      <td>1.000000</td>\n",
       "    </tr>\n",
       "    <tr>\n",
       "      <th>385</th>\n",
       "      <td>(delta_imp_amort_var18_1y3, num_var18_0)</td>\n",
       "      <td>1.000000</td>\n",
       "    </tr>\n",
       "    <tr>\n",
       "      <th>234</th>\n",
       "      <td>(ind_var18, num_var18_0)</td>\n",
       "      <td>1.000000</td>\n",
       "    </tr>\n",
       "    <tr>\n",
       "      <th>620</th>\n",
       "      <td>(ind_var18_0, num_var18_0)</td>\n",
       "      <td>1.000000</td>\n",
       "    </tr>\n",
       "    <tr>\n",
       "      <th>394</th>\n",
       "      <td>(ind_var18, num_var18)</td>\n",
       "      <td>1.000000</td>\n",
       "    </tr>\n",
       "    <tr>\n",
       "      <th>211</th>\n",
       "      <td>(ind_var18_0, num_var18)</td>\n",
       "      <td>1.000000</td>\n",
       "    </tr>\n",
       "    <tr>\n",
       "      <th>241</th>\n",
       "      <td>(delta_imp_amort_var34_1y3, num_var34)</td>\n",
       "      <td>1.000000</td>\n",
       "    </tr>\n",
       "    <tr>\n",
       "      <th>553</th>\n",
       "      <td>(delta_imp_amort_var34_1y3, num_var34_0)</td>\n",
       "      <td>1.000000</td>\n",
       "    </tr>\n",
       "    <tr>\n",
       "      <th>534</th>\n",
       "      <td>(delta_imp_aport_var13_1y3, delta_num_aport_va...</td>\n",
       "      <td>1.000000</td>\n",
       "    </tr>\n",
       "    <tr>\n",
       "      <th>206</th>\n",
       "      <td>(delta_imp_venta_var44_1y3, delta_num_venta_va...</td>\n",
       "      <td>1.000000</td>\n",
       "    </tr>\n",
       "    <tr>\n",
       "      <th>119</th>\n",
       "      <td>(delta_imp_compra_var44_1y3, delta_num_compra_...</td>\n",
       "      <td>1.000000</td>\n",
       "    </tr>\n",
       "    <tr>\n",
       "      <th>433</th>\n",
       "      <td>(delta_imp_amort_var18_1y3, ind_var18_0)</td>\n",
       "      <td>1.000000</td>\n",
       "    </tr>\n",
       "    <tr>\n",
       "      <th>...</th>\n",
       "      <td>...</td>\n",
       "      <td>...</td>\n",
       "    </tr>\n",
       "    <tr>\n",
       "      <th>522</th>\n",
       "      <td>(num_meses_var13_largo_ult3, saldo_medio_var13...</td>\n",
       "      <td>0.709013</td>\n",
       "    </tr>\n",
       "    <tr>\n",
       "      <th>587</th>\n",
       "      <td>(delta_num_reemb_var17_1y3, imp_reemb_var17_ult1)</td>\n",
       "      <td>0.708820</td>\n",
       "    </tr>\n",
       "    <tr>\n",
       "      <th>144</th>\n",
       "      <td>(delta_imp_reemb_var17_1y3, imp_reemb_var17_ult1)</td>\n",
       "      <td>0.708820</td>\n",
       "    </tr>\n",
       "    <tr>\n",
       "      <th>105</th>\n",
       "      <td>(imp_op_var41_comer_ult1, num_op_var39_comer_u...</td>\n",
       "      <td>0.708234</td>\n",
       "    </tr>\n",
       "    <tr>\n",
       "      <th>666</th>\n",
       "      <td>(imp_op_var40_comer_ult1, num_op_var40_comer_u...</td>\n",
       "      <td>0.708223</td>\n",
       "    </tr>\n",
       "    <tr>\n",
       "      <th>7</th>\n",
       "      <td>(num_var13, num_var30_0)</td>\n",
       "      <td>0.707691</td>\n",
       "    </tr>\n",
       "    <tr>\n",
       "      <th>201</th>\n",
       "      <td>(ind_var26, num_var8_0)</td>\n",
       "      <td>0.707408</td>\n",
       "    </tr>\n",
       "    <tr>\n",
       "      <th>401</th>\n",
       "      <td>(ind_var26_0, num_var8_0)</td>\n",
       "      <td>0.707408</td>\n",
       "    </tr>\n",
       "    <tr>\n",
       "      <th>437</th>\n",
       "      <td>(ind_var26, ind_var8_0)</td>\n",
       "      <td>0.707374</td>\n",
       "    </tr>\n",
       "    <tr>\n",
       "      <th>297</th>\n",
       "      <td>(ind_var26_0, ind_var8_0)</td>\n",
       "      <td>0.707374</td>\n",
       "    </tr>\n",
       "    <tr>\n",
       "      <th>93</th>\n",
       "      <td>(ind_var37, num_var37_0)</td>\n",
       "      <td>0.707211</td>\n",
       "    </tr>\n",
       "    <tr>\n",
       "      <th>106</th>\n",
       "      <td>(ind_var37_0, num_var37_0)</td>\n",
       "      <td>0.707211</td>\n",
       "    </tr>\n",
       "    <tr>\n",
       "      <th>59</th>\n",
       "      <td>(ind_var37_0, num_var37)</td>\n",
       "      <td>0.707211</td>\n",
       "    </tr>\n",
       "    <tr>\n",
       "      <th>274</th>\n",
       "      <td>(ind_var37, num_var37)</td>\n",
       "      <td>0.707211</td>\n",
       "    </tr>\n",
       "    <tr>\n",
       "      <th>159</th>\n",
       "      <td>(num_trasp_var33_in_ult1, num_trasp_var33_out_...</td>\n",
       "      <td>0.707104</td>\n",
       "    </tr>\n",
       "    <tr>\n",
       "      <th>541</th>\n",
       "      <td>(delta_num_trasp_var33_out_1y3, num_trasp_var3...</td>\n",
       "      <td>0.707104</td>\n",
       "    </tr>\n",
       "    <tr>\n",
       "      <th>221</th>\n",
       "      <td>(delta_imp_trasp_var33_out_1y3, num_trasp_var3...</td>\n",
       "      <td>0.707104</td>\n",
       "    </tr>\n",
       "    <tr>\n",
       "      <th>611</th>\n",
       "      <td>(imp_trasp_var33_out_ult1, num_trasp_var33_in_...</td>\n",
       "      <td>0.707104</td>\n",
       "    </tr>\n",
       "    <tr>\n",
       "      <th>327</th>\n",
       "      <td>(num_var4, num_var42)</td>\n",
       "      <td>0.706539</td>\n",
       "    </tr>\n",
       "    <tr>\n",
       "      <th>283</th>\n",
       "      <td>(imp_op_var40_comer_ult1, imp_op_var40_ult1)</td>\n",
       "      <td>0.705267</td>\n",
       "    </tr>\n",
       "    <tr>\n",
       "      <th>614</th>\n",
       "      <td>(imp_trasp_var33_in_ult1, num_trasp_var33_in_u...</td>\n",
       "      <td>0.704026</td>\n",
       "    </tr>\n",
       "    <tr>\n",
       "      <th>382</th>\n",
       "      <td>(num_var12_0, num_var14_0)</td>\n",
       "      <td>0.703964</td>\n",
       "    </tr>\n",
       "    <tr>\n",
       "      <th>688</th>\n",
       "      <td>(num_meses_var13_corto_ult3, saldo_medio_var13...</td>\n",
       "      <td>0.703806</td>\n",
       "    </tr>\n",
       "    <tr>\n",
       "      <th>489</th>\n",
       "      <td>(imp_compra_var44_hace3, imp_venta_var44_hace3)</td>\n",
       "      <td>0.703428</td>\n",
       "    </tr>\n",
       "    <tr>\n",
       "      <th>550</th>\n",
       "      <td>(num_meses_var13_corto_ult3, saldo_var13_corto)</td>\n",
       "      <td>0.702971</td>\n",
       "    </tr>\n",
       "    <tr>\n",
       "      <th>20</th>\n",
       "      <td>(num_var22_hace3, num_var22_ult3)</td>\n",
       "      <td>0.702191</td>\n",
       "    </tr>\n",
       "    <tr>\n",
       "      <th>539</th>\n",
       "      <td>(imp_trasp_var33_in_hace3, saldo_medio_var33_h...</td>\n",
       "      <td>0.701893</td>\n",
       "    </tr>\n",
       "    <tr>\n",
       "      <th>560</th>\n",
       "      <td>(num_op_var41_efect_ult3, num_op_var41_ult3)</td>\n",
       "      <td>0.700853</td>\n",
       "    </tr>\n",
       "    <tr>\n",
       "      <th>663</th>\n",
       "      <td>(num_op_var39_efect_ult3, num_op_var41_ult3)</td>\n",
       "      <td>0.700409</td>\n",
       "    </tr>\n",
       "    <tr>\n",
       "      <th>389</th>\n",
       "      <td>(num_var12_0, num_var24_0)</td>\n",
       "      <td>0.700306</td>\n",
       "    </tr>\n",
       "  </tbody>\n",
       "</table>\n",
       "<p>704 rows × 2 columns</p>\n",
       "</div>"
      ],
      "text/plain": [
       "                                        attribute pair  correlation\n",
       "467                               (ind_var6, num_var6)     1.000000\n",
       "530                              (ind_var6, num_var29)     1.000000\n",
       "493                             (ind_var29, num_var29)     1.000000\n",
       "92                               (ind_var29, num_var6)     1.000000\n",
       "184  (delta_imp_trasp_var33_out_1y3, num_trasp_var3...     1.000000\n",
       "654  (delta_num_trasp_var33_out_1y3, num_trasp_var3...     1.000000\n",
       "101  (delta_num_reemb_var33_1y3, num_reemb_var33_ult1)     1.000000\n",
       "14   (delta_imp_reemb_var33_1y3, num_reemb_var33_ult1)     1.000000\n",
       "439                         (ind_var20_0, num_var20_0)     1.000000\n",
       "89   (delta_num_reemb_var13_1y3, num_reemb_var13_ult1)     1.000000\n",
       "124  (delta_imp_reemb_var13_1y3, num_reemb_var13_ult1)     1.000000\n",
       "637                             (ind_var20, num_var20)     1.000000\n",
       "545      (num_meses_var13_medio_ult3, num_var13_medio)     1.000000\n",
       "215               (ind_var13_medio, num_var13_medio_0)     1.000000\n",
       "167                 (ind_var13_medio, num_var13_medio)     1.000000\n",
       "249    (num_meses_var13_medio_ult3, num_var13_medio_0)     1.000000\n",
       "641             (ind_var13_medio_0, num_var13_medio_0)     1.000000\n",
       "406               (ind_var13_medio_0, num_var13_medio)     1.000000\n",
       "495             (delta_imp_amort_var18_1y3, num_var18)     1.000000\n",
       "385           (delta_imp_amort_var18_1y3, num_var18_0)     1.000000\n",
       "234                           (ind_var18, num_var18_0)     1.000000\n",
       "620                         (ind_var18_0, num_var18_0)     1.000000\n",
       "394                             (ind_var18, num_var18)     1.000000\n",
       "211                           (ind_var18_0, num_var18)     1.000000\n",
       "241             (delta_imp_amort_var34_1y3, num_var34)     1.000000\n",
       "553           (delta_imp_amort_var34_1y3, num_var34_0)     1.000000\n",
       "534  (delta_imp_aport_var13_1y3, delta_num_aport_va...     1.000000\n",
       "206  (delta_imp_venta_var44_1y3, delta_num_venta_va...     1.000000\n",
       "119  (delta_imp_compra_var44_1y3, delta_num_compra_...     1.000000\n",
       "433           (delta_imp_amort_var18_1y3, ind_var18_0)     1.000000\n",
       "..                                                 ...          ...\n",
       "522  (num_meses_var13_largo_ult3, saldo_medio_var13...     0.709013\n",
       "587  (delta_num_reemb_var17_1y3, imp_reemb_var17_ult1)     0.708820\n",
       "144  (delta_imp_reemb_var17_1y3, imp_reemb_var17_ult1)     0.708820\n",
       "105  (imp_op_var41_comer_ult1, num_op_var39_comer_u...     0.708234\n",
       "666  (imp_op_var40_comer_ult1, num_op_var40_comer_u...     0.708223\n",
       "7                             (num_var13, num_var30_0)     0.707691\n",
       "201                            (ind_var26, num_var8_0)     0.707408\n",
       "401                          (ind_var26_0, num_var8_0)     0.707408\n",
       "437                            (ind_var26, ind_var8_0)     0.707374\n",
       "297                          (ind_var26_0, ind_var8_0)     0.707374\n",
       "93                            (ind_var37, num_var37_0)     0.707211\n",
       "106                         (ind_var37_0, num_var37_0)     0.707211\n",
       "59                            (ind_var37_0, num_var37)     0.707211\n",
       "274                             (ind_var37, num_var37)     0.707211\n",
       "159  (num_trasp_var33_in_ult1, num_trasp_var33_out_...     0.707104\n",
       "541  (delta_num_trasp_var33_out_1y3, num_trasp_var3...     0.707104\n",
       "221  (delta_imp_trasp_var33_out_1y3, num_trasp_var3...     0.707104\n",
       "611  (imp_trasp_var33_out_ult1, num_trasp_var33_in_...     0.707104\n",
       "327                              (num_var4, num_var42)     0.706539\n",
       "283       (imp_op_var40_comer_ult1, imp_op_var40_ult1)     0.705267\n",
       "614  (imp_trasp_var33_in_ult1, num_trasp_var33_in_u...     0.704026\n",
       "382                         (num_var12_0, num_var14_0)     0.703964\n",
       "688  (num_meses_var13_corto_ult3, saldo_medio_var13...     0.703806\n",
       "489    (imp_compra_var44_hace3, imp_venta_var44_hace3)     0.703428\n",
       "550    (num_meses_var13_corto_ult3, saldo_var13_corto)     0.702971\n",
       "20                   (num_var22_hace3, num_var22_ult3)     0.702191\n",
       "539  (imp_trasp_var33_in_hace3, saldo_medio_var33_h...     0.701893\n",
       "560       (num_op_var41_efect_ult3, num_op_var41_ult3)     0.700853\n",
       "663       (num_op_var39_efect_ult3, num_op_var41_ult3)     0.700409\n",
       "389                         (num_var12_0, num_var24_0)     0.700306\n",
       "\n",
       "[704 rows x 2 columns]"
      ]
     },
     "execution_count": 15,
     "metadata": {},
     "output_type": "execute_result"
    }
   ],
   "source": [
    "threshold = 0.7 #Высокая по шкале Чеддока\n",
    "important_corrs = (cor_mat[abs(cor_mat) > threshold][cor_mat != 1.0]) \\\n",
    "    .unstack().dropna().to_dict()\n",
    "\n",
    "unique_important_corrs = pd.DataFrame(\n",
    "    list(set([(tuple(sorted(key)), important_corrs[key]) \\\n",
    "    for key in important_corrs])), columns=['attribute pair', 'correlation'])\n",
    "\n",
    "unique_important_corrs = unique_important_corrs.loc[\n",
    "    abs(unique_important_corrs['correlation']).argsort()[::-1]]\n",
    "\n",
    "unique_important_corrs"
   ]
  },
  {
   "cell_type": "markdown",
   "metadata": {},
   "source": [
    "Кол-во коррелирующих признаков очень большое. Но если присмотреться к названиям, то можно заметить одну и ту же цифру в названиях. Тогда это имеет смысл, так как эти признаки исходят из одних данных."
   ]
  },
  {
   "cell_type": "markdown",
   "metadata": {},
   "source": [
    "Возьмем только признаки-индексы и посмотрим на их друг с другом корреляцию"
   ]
  },
  {
   "cell_type": "code",
   "execution_count": 16,
   "metadata": {},
   "outputs": [],
   "source": [
    "# \n",
    "index_train = pd.DataFrame()\n",
    "for column in train.columns:\n",
    "    #print(column)\n",
    "    if 'ind' in column:\n",
    "        index_train[column] = train[column]"
   ]
  },
  {
   "cell_type": "code",
   "execution_count": 17,
   "metadata": {},
   "outputs": [
    {
     "data": {
      "text/html": [
       "<div>\n",
       "<style scoped>\n",
       "    .dataframe tbody tr th:only-of-type {\n",
       "        vertical-align: middle;\n",
       "    }\n",
       "\n",
       "    .dataframe tbody tr th {\n",
       "        vertical-align: top;\n",
       "    }\n",
       "\n",
       "    .dataframe thead th {\n",
       "        text-align: right;\n",
       "    }\n",
       "</style>\n",
       "<table border=\"1\" class=\"dataframe\">\n",
       "  <thead>\n",
       "    <tr style=\"text-align: right;\">\n",
       "      <th></th>\n",
       "      <th>ind_var1_0</th>\n",
       "      <th>ind_var1</th>\n",
       "      <th>ind_var2_0</th>\n",
       "      <th>ind_var2</th>\n",
       "      <th>ind_var5_0</th>\n",
       "      <th>ind_var5</th>\n",
       "      <th>ind_var6_0</th>\n",
       "      <th>ind_var6</th>\n",
       "      <th>ind_var8_0</th>\n",
       "      <th>ind_var8</th>\n",
       "      <th>...</th>\n",
       "      <th>ind_var46_0</th>\n",
       "      <th>ind_var46</th>\n",
       "      <th>ind_var7_emit_ult1</th>\n",
       "      <th>ind_var7_recib_ult1</th>\n",
       "      <th>ind_var10_ult1</th>\n",
       "      <th>ind_var10cte_ult1</th>\n",
       "      <th>ind_var9_cte_ult1</th>\n",
       "      <th>ind_var9_ult1</th>\n",
       "      <th>ind_var43_emit_ult1</th>\n",
       "      <th>ind_var43_recib_ult1</th>\n",
       "    </tr>\n",
       "  </thead>\n",
       "  <tbody>\n",
       "    <tr>\n",
       "      <th>0</th>\n",
       "      <td>0</td>\n",
       "      <td>0</td>\n",
       "      <td>0</td>\n",
       "      <td>0</td>\n",
       "      <td>1</td>\n",
       "      <td>0</td>\n",
       "      <td>0</td>\n",
       "      <td>0</td>\n",
       "      <td>0</td>\n",
       "      <td>0</td>\n",
       "      <td>...</td>\n",
       "      <td>0</td>\n",
       "      <td>0</td>\n",
       "      <td>0</td>\n",
       "      <td>0</td>\n",
       "      <td>0</td>\n",
       "      <td>0</td>\n",
       "      <td>0</td>\n",
       "      <td>0</td>\n",
       "      <td>0</td>\n",
       "      <td>0</td>\n",
       "    </tr>\n",
       "    <tr>\n",
       "      <th>1</th>\n",
       "      <td>0</td>\n",
       "      <td>0</td>\n",
       "      <td>0</td>\n",
       "      <td>0</td>\n",
       "      <td>1</td>\n",
       "      <td>0</td>\n",
       "      <td>0</td>\n",
       "      <td>0</td>\n",
       "      <td>0</td>\n",
       "      <td>0</td>\n",
       "      <td>...</td>\n",
       "      <td>0</td>\n",
       "      <td>0</td>\n",
       "      <td>0</td>\n",
       "      <td>0</td>\n",
       "      <td>0</td>\n",
       "      <td>0</td>\n",
       "      <td>0</td>\n",
       "      <td>0</td>\n",
       "      <td>0</td>\n",
       "      <td>0</td>\n",
       "    </tr>\n",
       "    <tr>\n",
       "      <th>2</th>\n",
       "      <td>0</td>\n",
       "      <td>0</td>\n",
       "      <td>0</td>\n",
       "      <td>0</td>\n",
       "      <td>1</td>\n",
       "      <td>1</td>\n",
       "      <td>0</td>\n",
       "      <td>0</td>\n",
       "      <td>0</td>\n",
       "      <td>0</td>\n",
       "      <td>...</td>\n",
       "      <td>0</td>\n",
       "      <td>0</td>\n",
       "      <td>0</td>\n",
       "      <td>0</td>\n",
       "      <td>0</td>\n",
       "      <td>0</td>\n",
       "      <td>0</td>\n",
       "      <td>0</td>\n",
       "      <td>0</td>\n",
       "      <td>0</td>\n",
       "    </tr>\n",
       "    <tr>\n",
       "      <th>3</th>\n",
       "      <td>0</td>\n",
       "      <td>0</td>\n",
       "      <td>0</td>\n",
       "      <td>0</td>\n",
       "      <td>1</td>\n",
       "      <td>1</td>\n",
       "      <td>0</td>\n",
       "      <td>0</td>\n",
       "      <td>0</td>\n",
       "      <td>0</td>\n",
       "      <td>...</td>\n",
       "      <td>0</td>\n",
       "      <td>0</td>\n",
       "      <td>0</td>\n",
       "      <td>0</td>\n",
       "      <td>1</td>\n",
       "      <td>1</td>\n",
       "      <td>1</td>\n",
       "      <td>1</td>\n",
       "      <td>0</td>\n",
       "      <td>0</td>\n",
       "    </tr>\n",
       "    <tr>\n",
       "      <th>4</th>\n",
       "      <td>0</td>\n",
       "      <td>0</td>\n",
       "      <td>0</td>\n",
       "      <td>0</td>\n",
       "      <td>1</td>\n",
       "      <td>0</td>\n",
       "      <td>0</td>\n",
       "      <td>0</td>\n",
       "      <td>0</td>\n",
       "      <td>0</td>\n",
       "      <td>...</td>\n",
       "      <td>0</td>\n",
       "      <td>0</td>\n",
       "      <td>0</td>\n",
       "      <td>0</td>\n",
       "      <td>0</td>\n",
       "      <td>0</td>\n",
       "      <td>0</td>\n",
       "      <td>0</td>\n",
       "      <td>1</td>\n",
       "      <td>1</td>\n",
       "    </tr>\n",
       "  </tbody>\n",
       "</table>\n",
       "<p>5 rows × 75 columns</p>\n",
       "</div>"
      ],
      "text/plain": [
       "   ind_var1_0  ind_var1  ind_var2_0  ind_var2  ind_var5_0  ind_var5  \\\n",
       "0           0         0           0         0           1         0   \n",
       "1           0         0           0         0           1         0   \n",
       "2           0         0           0         0           1         1   \n",
       "3           0         0           0         0           1         1   \n",
       "4           0         0           0         0           1         0   \n",
       "\n",
       "   ind_var6_0  ind_var6  ind_var8_0  ind_var8  ...  ind_var46_0  ind_var46  \\\n",
       "0           0         0           0         0  ...            0          0   \n",
       "1           0         0           0         0  ...            0          0   \n",
       "2           0         0           0         0  ...            0          0   \n",
       "3           0         0           0         0  ...            0          0   \n",
       "4           0         0           0         0  ...            0          0   \n",
       "\n",
       "   ind_var7_emit_ult1  ind_var7_recib_ult1  ind_var10_ult1  ind_var10cte_ult1  \\\n",
       "0                   0                    0               0                  0   \n",
       "1                   0                    0               0                  0   \n",
       "2                   0                    0               0                  0   \n",
       "3                   0                    0               1                  1   \n",
       "4                   0                    0               0                  0   \n",
       "\n",
       "   ind_var9_cte_ult1  ind_var9_ult1  ind_var43_emit_ult1  ind_var43_recib_ult1  \n",
       "0                  0              0                    0                     0  \n",
       "1                  0              0                    0                     0  \n",
       "2                  0              0                    0                     0  \n",
       "3                  1              1                    0                     0  \n",
       "4                  0              0                    1                     1  \n",
       "\n",
       "[5 rows x 75 columns]"
      ]
     },
     "execution_count": 17,
     "metadata": {},
     "output_type": "execute_result"
    }
   ],
   "source": [
    "index_train.head()"
   ]
  },
  {
   "cell_type": "code",
   "execution_count": 18,
   "metadata": {
    "scrolled": false
   },
   "outputs": [
    {
     "data": {
      "image/png": "[encoded data removed]",
      "text/plain": [
       "<Figure size 1296x1080 with 2 Axes>"
      ]
     },
     "metadata": {
      "needs_background": "light"
     },
     "output_type": "display_data"
    }
   ],
   "source": [
    "cor_mat = index_train.corr()\n",
    "f, ax = plt.subplots(figsize=(18, 15))\n",
    "# Draw the heatmap with the mask and correct aspect ratio\n",
    "sns.heatmap(cor_mat, ax=ax);"
   ]
  },
  {
   "cell_type": "markdown",
   "metadata": {},
   "source": [
    "Таблица показывает, что боль-во признаков не коррелируют между собой, но при этом некоторые имеют очень сильную линейную связь."
   ]
  },
  {
   "cell_type": "code",
   "execution_count": 19,
   "metadata": {},
   "outputs": [
    {
     "data": {
      "text/html": [
       "<div>\n",
       "<style scoped>\n",
       "    .dataframe tbody tr th:only-of-type {\n",
       "        vertical-align: middle;\n",
       "    }\n",
       "\n",
       "    .dataframe tbody tr th {\n",
       "        vertical-align: top;\n",
       "    }\n",
       "\n",
       "    .dataframe thead th {\n",
       "        text-align: right;\n",
       "    }\n",
       "</style>\n",
       "<table border=\"1\" class=\"dataframe\">\n",
       "  <thead>\n",
       "    <tr style=\"text-align: right;\">\n",
       "      <th></th>\n",
       "      <th>attribute pair</th>\n",
       "      <th>correlation</th>\n",
       "    </tr>\n",
       "  </thead>\n",
       "  <tbody>\n",
       "    <tr>\n",
       "      <th>42</th>\n",
       "      <td>(ind_var1_0, ind_var40_0)</td>\n",
       "      <td>0.998256</td>\n",
       "    </tr>\n",
       "    <tr>\n",
       "      <th>69</th>\n",
       "      <td>(ind_var1, ind_var40)</td>\n",
       "      <td>0.994722</td>\n",
       "    </tr>\n",
       "    <tr>\n",
       "      <th>32</th>\n",
       "      <td>(ind_var1, ind_var39)</td>\n",
       "      <td>0.994722</td>\n",
       "    </tr>\n",
       "    <tr>\n",
       "      <th>7</th>\n",
       "      <td>(ind_var13_largo, ind_var13_largo_0)</td>\n",
       "      <td>0.991470</td>\n",
       "    </tr>\n",
       "    <tr>\n",
       "      <th>31</th>\n",
       "      <td>(ind_var39_0, ind_var41_0)</td>\n",
       "      <td>0.989559</td>\n",
       "    </tr>\n",
       "    <tr>\n",
       "      <th>38</th>\n",
       "      <td>(ind_var13, ind_var13_0)</td>\n",
       "      <td>0.985841</td>\n",
       "    </tr>\n",
       "    <tr>\n",
       "      <th>3</th>\n",
       "      <td>(ind_var13_corto, ind_var13_corto_0)</td>\n",
       "      <td>0.982100</td>\n",
       "    </tr>\n",
       "    <tr>\n",
       "      <th>70</th>\n",
       "      <td>(ind_var25, ind_var26)</td>\n",
       "      <td>0.979000</td>\n",
       "    </tr>\n",
       "    <tr>\n",
       "      <th>20</th>\n",
       "      <td>(ind_var25_0, ind_var26_0)</td>\n",
       "      <td>0.979000</td>\n",
       "    </tr>\n",
       "    <tr>\n",
       "      <th>13</th>\n",
       "      <td>(ind_var25, ind_var26_0)</td>\n",
       "      <td>0.979000</td>\n",
       "    </tr>\n",
       "    <tr>\n",
       "      <th>4</th>\n",
       "      <td>(ind_var25_0, ind_var26)</td>\n",
       "      <td>0.979000</td>\n",
       "    </tr>\n",
       "    <tr>\n",
       "      <th>6</th>\n",
       "      <td>(ind_var25_cte, ind_var26_cte)</td>\n",
       "      <td>0.978691</td>\n",
       "    </tr>\n",
       "    <tr>\n",
       "      <th>49</th>\n",
       "      <td>(ind_var10cte_ult1, ind_var9_cte_ult1)</td>\n",
       "      <td>0.972857</td>\n",
       "    </tr>\n",
       "    <tr>\n",
       "      <th>53</th>\n",
       "      <td>(ind_var10_ult1, ind_var9_ult1)</td>\n",
       "      <td>0.967573</td>\n",
       "    </tr>\n",
       "    <tr>\n",
       "      <th>67</th>\n",
       "      <td>(ind_var44, ind_var44_0)</td>\n",
       "      <td>0.949701</td>\n",
       "    </tr>\n",
       "    <tr>\n",
       "      <th>17</th>\n",
       "      <td>(ind_var37, ind_var37_cte)</td>\n",
       "      <td>0.946499</td>\n",
       "    </tr>\n",
       "    <tr>\n",
       "      <th>29</th>\n",
       "      <td>(ind_var37_0, ind_var37_cte)</td>\n",
       "      <td>0.946499</td>\n",
       "    </tr>\n",
       "    <tr>\n",
       "      <th>24</th>\n",
       "      <td>(ind_var25_0, ind_var25_cte)</td>\n",
       "      <td>0.944415</td>\n",
       "    </tr>\n",
       "    <tr>\n",
       "      <th>48</th>\n",
       "      <td>(ind_var25, ind_var25_cte)</td>\n",
       "      <td>0.944415</td>\n",
       "    </tr>\n",
       "    <tr>\n",
       "      <th>16</th>\n",
       "      <td>(ind_var26, ind_var26_cte)</td>\n",
       "      <td>0.944117</td>\n",
       "    </tr>\n",
       "    <tr>\n",
       "      <th>0</th>\n",
       "      <td>(ind_var26_0, ind_var26_cte)</td>\n",
       "      <td>0.944117</td>\n",
       "    </tr>\n",
       "    <tr>\n",
       "      <th>43</th>\n",
       "      <td>(ind_var32_0, ind_var32_cte)</td>\n",
       "      <td>0.944027</td>\n",
       "    </tr>\n",
       "    <tr>\n",
       "      <th>27</th>\n",
       "      <td>(ind_var32, ind_var32_cte)</td>\n",
       "      <td>0.944027</td>\n",
       "    </tr>\n",
       "    <tr>\n",
       "      <th>59</th>\n",
       "      <td>(ind_var24, ind_var24_0)</td>\n",
       "      <td>0.943379</td>\n",
       "    </tr>\n",
       "    <tr>\n",
       "      <th>56</th>\n",
       "      <td>(ind_var9_cte_ult1, ind_var9_ult1)</td>\n",
       "      <td>0.936083</td>\n",
       "    </tr>\n",
       "    <tr>\n",
       "      <th>22</th>\n",
       "      <td>(ind_var8, ind_var8_0)</td>\n",
       "      <td>0.931233</td>\n",
       "    </tr>\n",
       "    <tr>\n",
       "      <th>62</th>\n",
       "      <td>(ind_var10_ult1, ind_var10cte_ult1)</td>\n",
       "      <td>0.930998</td>\n",
       "    </tr>\n",
       "    <tr>\n",
       "      <th>64</th>\n",
       "      <td>(ind_var31, ind_var31_0)</td>\n",
       "      <td>0.926251</td>\n",
       "    </tr>\n",
       "    <tr>\n",
       "      <th>41</th>\n",
       "      <td>(ind_var25_cte, ind_var26)</td>\n",
       "      <td>0.924468</td>\n",
       "    </tr>\n",
       "    <tr>\n",
       "      <th>26</th>\n",
       "      <td>(ind_var25_cte, ind_var26_0)</td>\n",
       "      <td>0.924468</td>\n",
       "    </tr>\n",
       "    <tr>\n",
       "      <th>...</th>\n",
       "      <td>...</td>\n",
       "      <td>...</td>\n",
       "    </tr>\n",
       "    <tr>\n",
       "      <th>18</th>\n",
       "      <td>(ind_var13_0, ind_var13_corto)</td>\n",
       "      <td>0.885937</td>\n",
       "    </tr>\n",
       "    <tr>\n",
       "      <th>40</th>\n",
       "      <td>(ind_var13, ind_var13_corto_0)</td>\n",
       "      <td>0.885503</td>\n",
       "    </tr>\n",
       "    <tr>\n",
       "      <th>5</th>\n",
       "      <td>(ind_var10cte_ult1, ind_var37_cte)</td>\n",
       "      <td>0.876170</td>\n",
       "    </tr>\n",
       "    <tr>\n",
       "      <th>2</th>\n",
       "      <td>(ind_var5_0, ind_var8_0)</td>\n",
       "      <td>-0.865874</td>\n",
       "    </tr>\n",
       "    <tr>\n",
       "      <th>47</th>\n",
       "      <td>(ind_var37, ind_var9_ult1)</td>\n",
       "      <td>0.861873</td>\n",
       "    </tr>\n",
       "    <tr>\n",
       "      <th>30</th>\n",
       "      <td>(ind_var37_0, ind_var9_ult1)</td>\n",
       "      <td>0.861873</td>\n",
       "    </tr>\n",
       "    <tr>\n",
       "      <th>8</th>\n",
       "      <td>(ind_var20, ind_var20_0)</td>\n",
       "      <td>0.861428</td>\n",
       "    </tr>\n",
       "    <tr>\n",
       "      <th>23</th>\n",
       "      <td>(ind_var12, ind_var24_0)</td>\n",
       "      <td>0.857257</td>\n",
       "    </tr>\n",
       "    <tr>\n",
       "      <th>51</th>\n",
       "      <td>(ind_var37_cte, ind_var9_cte_ult1)</td>\n",
       "      <td>0.852388</td>\n",
       "    </tr>\n",
       "    <tr>\n",
       "      <th>28</th>\n",
       "      <td>(ind_var10_ult1, ind_var37_cte)</td>\n",
       "      <td>0.849448</td>\n",
       "    </tr>\n",
       "    <tr>\n",
       "      <th>50</th>\n",
       "      <td>(ind_var30, ind_var5)</td>\n",
       "      <td>0.848338</td>\n",
       "    </tr>\n",
       "    <tr>\n",
       "      <th>54</th>\n",
       "      <td>(ind_var10cte_ult1, ind_var37_0)</td>\n",
       "      <td>0.829294</td>\n",
       "    </tr>\n",
       "    <tr>\n",
       "      <th>45</th>\n",
       "      <td>(ind_var10cte_ult1, ind_var37)</td>\n",
       "      <td>0.829294</td>\n",
       "    </tr>\n",
       "    <tr>\n",
       "      <th>63</th>\n",
       "      <td>(ind_var37_cte, ind_var9_ult1)</td>\n",
       "      <td>0.822682</td>\n",
       "    </tr>\n",
       "    <tr>\n",
       "      <th>12</th>\n",
       "      <td>(ind_var12, ind_var12_0)</td>\n",
       "      <td>0.811006</td>\n",
       "    </tr>\n",
       "    <tr>\n",
       "      <th>58</th>\n",
       "      <td>(ind_var5_0, ind_var8)</td>\n",
       "      <td>-0.807106</td>\n",
       "    </tr>\n",
       "    <tr>\n",
       "      <th>33</th>\n",
       "      <td>(ind_var37_0, ind_var9_cte_ult1)</td>\n",
       "      <td>0.806784</td>\n",
       "    </tr>\n",
       "    <tr>\n",
       "      <th>55</th>\n",
       "      <td>(ind_var37, ind_var9_cte_ult1)</td>\n",
       "      <td>0.806784</td>\n",
       "    </tr>\n",
       "    <tr>\n",
       "      <th>36</th>\n",
       "      <td>(ind_var26_cte, ind_var8)</td>\n",
       "      <td>0.800346</td>\n",
       "    </tr>\n",
       "    <tr>\n",
       "      <th>52</th>\n",
       "      <td>(ind_var25_cte, ind_var8)</td>\n",
       "      <td>0.784574</td>\n",
       "    </tr>\n",
       "    <tr>\n",
       "      <th>60</th>\n",
       "      <td>(ind_var12_0, ind_var24_0)</td>\n",
       "      <td>0.781682</td>\n",
       "    </tr>\n",
       "    <tr>\n",
       "      <th>19</th>\n",
       "      <td>(ind_var26_cte, ind_var8_0)</td>\n",
       "      <td>0.754041</td>\n",
       "    </tr>\n",
       "    <tr>\n",
       "      <th>34</th>\n",
       "      <td>(ind_var26_0, ind_var8)</td>\n",
       "      <td>0.753209</td>\n",
       "    </tr>\n",
       "    <tr>\n",
       "      <th>21</th>\n",
       "      <td>(ind_var26, ind_var8)</td>\n",
       "      <td>0.753209</td>\n",
       "    </tr>\n",
       "    <tr>\n",
       "      <th>65</th>\n",
       "      <td>(ind_var25_cte, ind_var8_0)</td>\n",
       "      <td>0.738649</td>\n",
       "    </tr>\n",
       "    <tr>\n",
       "      <th>66</th>\n",
       "      <td>(ind_var25_0, ind_var8)</td>\n",
       "      <td>0.738017</td>\n",
       "    </tr>\n",
       "    <tr>\n",
       "      <th>39</th>\n",
       "      <td>(ind_var25, ind_var8)</td>\n",
       "      <td>0.738017</td>\n",
       "    </tr>\n",
       "    <tr>\n",
       "      <th>37</th>\n",
       "      <td>(ind_var12_0, ind_var24)</td>\n",
       "      <td>0.737423</td>\n",
       "    </tr>\n",
       "    <tr>\n",
       "      <th>9</th>\n",
       "      <td>(ind_var26_0, ind_var8_0)</td>\n",
       "      <td>0.707374</td>\n",
       "    </tr>\n",
       "    <tr>\n",
       "      <th>25</th>\n",
       "      <td>(ind_var26, ind_var8_0)</td>\n",
       "      <td>0.707374</td>\n",
       "    </tr>\n",
       "  </tbody>\n",
       "</table>\n",
       "<p>71 rows × 2 columns</p>\n",
       "</div>"
      ],
      "text/plain": [
       "                            attribute pair  correlation\n",
       "42               (ind_var1_0, ind_var40_0)     0.998256\n",
       "69                   (ind_var1, ind_var40)     0.994722\n",
       "32                   (ind_var1, ind_var39)     0.994722\n",
       "7     (ind_var13_largo, ind_var13_largo_0)     0.991470\n",
       "31              (ind_var39_0, ind_var41_0)     0.989559\n",
       "38                (ind_var13, ind_var13_0)     0.985841\n",
       "3     (ind_var13_corto, ind_var13_corto_0)     0.982100\n",
       "70                  (ind_var25, ind_var26)     0.979000\n",
       "20              (ind_var25_0, ind_var26_0)     0.979000\n",
       "13                (ind_var25, ind_var26_0)     0.979000\n",
       "4                 (ind_var25_0, ind_var26)     0.979000\n",
       "6           (ind_var25_cte, ind_var26_cte)     0.978691\n",
       "49  (ind_var10cte_ult1, ind_var9_cte_ult1)     0.972857\n",
       "53         (ind_var10_ult1, ind_var9_ult1)     0.967573\n",
       "67                (ind_var44, ind_var44_0)     0.949701\n",
       "17              (ind_var37, ind_var37_cte)     0.946499\n",
       "29            (ind_var37_0, ind_var37_cte)     0.946499\n",
       "24            (ind_var25_0, ind_var25_cte)     0.944415\n",
       "48              (ind_var25, ind_var25_cte)     0.944415\n",
       "16              (ind_var26, ind_var26_cte)     0.944117\n",
       "0             (ind_var26_0, ind_var26_cte)     0.944117\n",
       "43            (ind_var32_0, ind_var32_cte)     0.944027\n",
       "27              (ind_var32, ind_var32_cte)     0.944027\n",
       "59                (ind_var24, ind_var24_0)     0.943379\n",
       "56      (ind_var9_cte_ult1, ind_var9_ult1)     0.936083\n",
       "22                  (ind_var8, ind_var8_0)     0.931233\n",
       "62     (ind_var10_ult1, ind_var10cte_ult1)     0.930998\n",
       "64                (ind_var31, ind_var31_0)     0.926251\n",
       "41              (ind_var25_cte, ind_var26)     0.924468\n",
       "26            (ind_var25_cte, ind_var26_0)     0.924468\n",
       "..                                     ...          ...\n",
       "18          (ind_var13_0, ind_var13_corto)     0.885937\n",
       "40          (ind_var13, ind_var13_corto_0)     0.885503\n",
       "5       (ind_var10cte_ult1, ind_var37_cte)     0.876170\n",
       "2                 (ind_var5_0, ind_var8_0)    -0.865874\n",
       "47              (ind_var37, ind_var9_ult1)     0.861873\n",
       "30            (ind_var37_0, ind_var9_ult1)     0.861873\n",
       "8                 (ind_var20, ind_var20_0)     0.861428\n",
       "23                (ind_var12, ind_var24_0)     0.857257\n",
       "51      (ind_var37_cte, ind_var9_cte_ult1)     0.852388\n",
       "28         (ind_var10_ult1, ind_var37_cte)     0.849448\n",
       "50                   (ind_var30, ind_var5)     0.848338\n",
       "54        (ind_var10cte_ult1, ind_var37_0)     0.829294\n",
       "45          (ind_var10cte_ult1, ind_var37)     0.829294\n",
       "63          (ind_var37_cte, ind_var9_ult1)     0.822682\n",
       "12                (ind_var12, ind_var12_0)     0.811006\n",
       "58                  (ind_var5_0, ind_var8)    -0.807106\n",
       "33        (ind_var37_0, ind_var9_cte_ult1)     0.806784\n",
       "55          (ind_var37, ind_var9_cte_ult1)     0.806784\n",
       "36               (ind_var26_cte, ind_var8)     0.800346\n",
       "52               (ind_var25_cte, ind_var8)     0.784574\n",
       "60              (ind_var12_0, ind_var24_0)     0.781682\n",
       "19             (ind_var26_cte, ind_var8_0)     0.754041\n",
       "34                 (ind_var26_0, ind_var8)     0.753209\n",
       "21                   (ind_var26, ind_var8)     0.753209\n",
       "65             (ind_var25_cte, ind_var8_0)     0.738649\n",
       "66                 (ind_var25_0, ind_var8)     0.738017\n",
       "39                   (ind_var25, ind_var8)     0.738017\n",
       "37                (ind_var12_0, ind_var24)     0.737423\n",
       "9                (ind_var26_0, ind_var8_0)     0.707374\n",
       "25                 (ind_var26, ind_var8_0)     0.707374\n",
       "\n",
       "[71 rows x 2 columns]"
      ]
     },
     "execution_count": 19,
     "metadata": {},
     "output_type": "execute_result"
    }
   ],
   "source": [
    "\n",
    "threshold = 0.7 #Высокая по шкале Чеддока\n",
    "important_corrs = (cor_mat[abs(cor_mat) > threshold][cor_mat != 1.0]) \\\n",
    "    .unstack().dropna().to_dict()\n",
    "\n",
    "unique_important_corrs = pd.DataFrame(\n",
    "    list(set([(tuple(sorted(key)), important_corrs[key]) \\\n",
    "    for key in important_corrs])), columns=['attribute pair', 'correlation'])\n",
    "\n",
    "unique_important_corrs = unique_important_corrs.loc[\n",
    "    abs(unique_important_corrs['correlation']).argsort()[::-1]]\n",
    "\n",
    "unique_important_corrs"
   ]
  },
  {
   "cell_type": "markdown",
   "metadata": {},
   "source": [
    "Проблема в том, что хоть их и сравнительно немного, как можно заметить на таблице, кол-во связей с сильной корреляцией все равно большое из-за кол-ва признаков. Из-за их анонимности нет четкого и хорошего способа объединить их в один признак, поэтому я воспользуюсь алгоритмами feature selection для определения наиболее полезных признаков"
   ]
  },
  {
   "cell_type": "markdown",
   "metadata": {},
   "source": [
    "Одна из идей может быть создать признак, считающий количество нулей в строке. (Судя по обсуждению, этот признак может помочь.)"
   ]
  },
  {
   "cell_type": "code",
   "execution_count": 20,
   "metadata": {},
   "outputs": [],
   "source": [
    "remove = []\n",
    "for col in train.columns:\n",
    "    if train[col].std() == 0:\n",
    "        remove.append(col)\n",
    "\n",
    "train.drop(remove, axis=1, inplace=True)\n",
    "\n",
    "\n",
    "remove = []\n",
    "cols = train.columns\n",
    "for i in range(len(cols)-1):\n",
    "    v = train[cols[i]].values\n",
    "    for j in range(i+1,len(cols)):\n",
    "        if np.array_equal(v,train[cols[j]].values):\n",
    "            remove.append(cols[j])\n",
    "\n",
    "train.drop(remove, axis=1, inplace=True)"
   ]
  },
  {
   "cell_type": "code",
   "execution_count": 21,
   "metadata": {},
   "outputs": [
    {
     "data": {
      "text/plain": [
       "(76020, 308)"
      ]
     },
     "execution_count": 21,
     "metadata": {},
     "output_type": "execute_result"
    }
   ],
   "source": [
    "train.shape"
   ]
  },
  {
   "cell_type": "code",
   "execution_count": 22,
   "metadata": {},
   "outputs": [],
   "source": [
    "#Добавляем поле, в котором будет содержаться количество нулей в строке\n",
    "\n",
    "# X = train.iloc[:,:-1]\n",
    "# Y = train.TARGET\n",
    "X = train.drop([\"TARGET\",\"ID\"],axis=1)\n",
    "Y = train.TARGET.values\n",
    "X['n0'] = (X==0).sum(axis=1)\n",
    "train['n0'] = X['n0']"
   ]
  },
  {
   "cell_type": "markdown",
   "metadata": {},
   "source": [
    "## Feature selection"
   ]
  },
  {
   "cell_type": "markdown",
   "metadata": {},
   "source": [
    "Выберем 200 наиболее полезных признаков исходя из критерия Хи-квадрат."
   ]
  },
  {
   "cell_type": "code",
   "execution_count": 23,
   "metadata": {},
   "outputs": [
    {
     "name": "stderr",
     "output_type": "stream",
     "text": [
      "D:\\Anaconda\\envs\\facebook_RCNN\\lib\\site-packages\\sklearn\\preprocessing\\data.py:172: UserWarning: Numerical issues were encountered when centering the data and might not be solved. Dataset may contain too large values. You may need to prescale your features.\n",
      "  warnings.warn(\"Numerical issues were encountered \"\n"
     ]
    }
   ],
   "source": [
    "from sklearn.feature_selection import SelectKBest, chi2 # Хи-квадрат критерий\n",
    "from sklearn.preprocessing import Binarizer, scale #Бинаризация, стандартизация\n",
    "from sklearn.preprocessing import normalize\n",
    "\n",
    "X_bin = Binarizer().fit_transform(scale(X))\n",
    "selectChi2 = SelectKBest(chi2, k=200 ).fit(X_bin, Y)\n",
    "\n"
   ]
  },
  {
   "cell_type": "code",
   "execution_count": 24,
   "metadata": {},
   "outputs": [],
   "source": [
    "chi2_selected = selectChi2.get_support()\n",
    "chi2_selected_features = [ f for i,f in enumerate(X.columns) if chi2_selected[i]]"
   ]
  },
  {
   "cell_type": "code",
   "execution_count": 25,
   "metadata": {},
   "outputs": [],
   "source": [
    "#chi2_selected_features"
   ]
  },
  {
   "cell_type": "code",
   "execution_count": 26,
   "metadata": {},
   "outputs": [],
   "source": [
    "X_selected = X[chi2_selected_features]"
   ]
  },
  {
   "cell_type": "code",
   "execution_count": 27,
   "metadata": {},
   "outputs": [],
   "source": [
    "from sklearn.model_selection import train_test_split\n",
    "\n",
    "X_train, X_test, Y_train, Y_test = train_test_split(X_selected, Y, stratify=Y, test_size=0.33, random_state=42)"
   ]
  },
  {
   "cell_type": "code",
   "execution_count": 28,
   "metadata": {},
   "outputs": [
    {
     "data": {
      "text/plain": [
       "(50933, 200)"
      ]
     },
     "execution_count": 28,
     "metadata": {},
     "output_type": "execute_result"
    }
   ],
   "source": [
    "X_train.shape"
   ]
  },
  {
   "cell_type": "code",
   "execution_count": 29,
   "metadata": {},
   "outputs": [
    {
     "data": {
      "text/plain": [
       "(25087, 200)"
      ]
     },
     "execution_count": 29,
     "metadata": {},
     "output_type": "execute_result"
    }
   ],
   "source": [
    "X_test.shape"
   ]
  },
  {
   "cell_type": "code",
   "execution_count": 30,
   "metadata": {},
   "outputs": [
    {
     "data": {
      "text/plain": [
       "(50933,)"
      ]
     },
     "execution_count": 30,
     "metadata": {},
     "output_type": "execute_result"
    }
   ],
   "source": [
    "Y_train.shape"
   ]
  },
  {
   "cell_type": "code",
   "execution_count": 31,
   "metadata": {},
   "outputs": [
    {
     "data": {
      "text/plain": [
       "(25087,)"
      ]
     },
     "execution_count": 31,
     "metadata": {},
     "output_type": "execute_result"
    }
   ],
   "source": [
    "Y_test.shape"
   ]
  },
  {
   "cell_type": "markdown",
   "metadata": {},
   "source": [
    "## KNN"
   ]
  },
  {
   "cell_type": "code",
   "execution_count": 111,
   "metadata": {
    "scrolled": true
   },
   "outputs": [
    {
     "name": "stdout",
     "output_type": "stream",
     "text": [
      "\n",
      "MODEL: neighbours=3 weight=uniform p=1\n",
      "\n",
      "AUC on test: 0.5730848068963864\n",
      "Accuracy on test: 0.9539602184398294\n",
      "[[23901   193]\n",
      " [  962    31]]\n",
      "0.036154183441623154\n",
      "\n",
      "MODEL: neighbours=3 weight=uniform p=2\n",
      "\n",
      "AUC on test: 0.5674950644383683\n",
      "Accuracy on test: 0.95324271535058\n",
      "[[23892   202]\n",
      " [  971    22]]\n",
      "0.03711085422728903\n",
      "\n",
      "MODEL: neighbours=3 weight=distance p=1\n",
      "\n",
      "AUC on test: 0.5722523005104797\n",
      "Accuracy on test: 0.9506915932554709\n",
      "[[23810   284]\n",
      " [  953    40]]\n",
      "0.03546037284094629\n",
      "\n",
      "MODEL: neighbours=3 weight=distance p=2\n",
      "\n",
      "AUC on test: 0.5671301584738058\n",
      "Accuracy on test: 0.9498146450352772\n",
      "[[23797   297]\n",
      " [  962    31]]\n",
      "0.036324376356728666\n",
      "\n",
      "MODEL: neighbours=7 weight=uniform p=1\n",
      "\n",
      "AUC on test: 0.6178067799407004\n",
      "Accuracy on test: 0.9592219077609917\n",
      "[[24057    37]\n",
      " [  986     7]]\n",
      "0.03606876640718869\n",
      "\n",
      "MODEL: neighbours=7 weight=uniform p=2\n",
      "\n",
      "AUC on test: 0.6074245877028633\n",
      "Accuracy on test: 0.9598198270020329\n",
      "[[24071    23]\n",
      " [  985     8]]\n",
      "0.03747530024087604\n",
      "\n",
      "MODEL: neighbours=7 weight=distance p=1\n",
      "\n",
      "AUC on test: 0.6173224608450739\n",
      "Accuracy on test: 0.957268704906924\n",
      "[[23997    97]\n",
      " [  975    18]]\n",
      "0.035091185308992724\n",
      "\n",
      "MODEL: neighbours=7 weight=distance p=2\n",
      "\n",
      "AUC on test: 0.6078299319608472\n",
      "Accuracy on test: 0.9576673177342847\n",
      "[[24007    87]\n",
      " [  975    18]]\n",
      "0.03640794318705871\n",
      "\n",
      "MODEL: neighbours=9 weight=uniform p=1\n",
      "\n",
      "AUC on test: 0.6325771226175158\n",
      "Accuracy on test: 0.9600191334157133\n",
      "[[24084    10]\n",
      " [  993     0]]\n",
      "0.03612760925313243\n",
      "\n",
      "MODEL: neighbours=9 weight=uniform p=2\n",
      "\n",
      "AUC on test: 0.6178752847085739\n",
      "Accuracy on test: 0.960377884960338\n",
      "[[24093     1]\n",
      " [  993     0]]\n",
      "0.03741202836351718\n",
      "\n",
      "MODEL: neighbours=9 weight=distance p=1\n",
      "\n",
      "AUC on test: 0.6309015561825615\n",
      "Accuracy on test: 0.9581855144098537\n",
      "[[24030    64]\n",
      " [  985     8]]\n",
      "0.03501751163136725\n",
      "\n",
      "MODEL: neighbours=9 weight=distance p=2\n",
      "\n",
      "AUC on test: 0.6166897217185027\n",
      "Accuracy on test: 0.9585841272372145\n",
      "[[24041    53]\n",
      " [  986     7]]\n",
      "0.03631690654983414\n",
      "\n",
      "MODEL: neighbours=15 weight=uniform p=1\n",
      "\n",
      "AUC on test: 0.662229864885526\n",
      "Accuracy on test: 0.960377884960338\n",
      "[[24093     1]\n",
      " [  993     0]]\n",
      "0.03631362857256746\n",
      "\n",
      "MODEL: neighbours=15 weight=uniform p=2\n",
      "\n",
      "AUC on test: 0.64145873024511\n",
      "Accuracy on test: 0.9604177462430741\n",
      "[[24094     0]\n",
      " [  993     0]]\n",
      "0.03788150569351988\n",
      "\n",
      "MODEL: neighbours=15 weight=distance p=1\n",
      "\n",
      "AUC on test: 0.6585874718112703\n",
      "Accuracy on test: 0.9594610754574082\n",
      "[[24063    31]\n",
      " [  986     7]]\n",
      "0.035316816170522104\n",
      "\n",
      "MODEL: neighbours=15 weight=distance p=2\n",
      "\n",
      "AUC on test: 0.6387654354115399\n",
      "Accuracy on test: 0.9592617690437278\n",
      "[[24061    33]\n",
      " [  989     4]]\n",
      "0.03675129903153298\n"
     ]
    }
   ],
   "source": [
    "for neighbours in [3,7,9,15]:\n",
    "    for weight in ['uniform','distance']:\n",
    "        for p in [1,2]:\n",
    "            print('\\nMODEL: neighbours={} weight={} p={}'.format(neighbours,weight,p))\n",
    "            neigh = KNeighborsClassifier(n_neighbors=neighbours, weights=weight, p=p, n_jobs=-1)\n",
    "            neigh.fit(X_train,Y_train)\n",
    "            Y_pred = neigh.predict(X_test)\n",
    "            Y_pred_proba = neigh.predict_proba(X_test)[:,1]\n",
    "            print('\\nAUC on test:', roc_auc_score(Y_test, Y_pred_proba))\n",
    "            print('Accuracy on test:', accuracy_score(Y_test, Y_pred))\n",
    "            print(confusion_matrix(Y_test, Y_pred))\n",
    "            print(np.sum(Y_pred_proba) / len(Y_pred_proba))"
   ]
  },
  {
   "cell_type": "markdown",
   "metadata": {},
   "source": [
    "Чем больше соседей выставляем в параметр классификатора, тем менее он чувствителен к наличию экземпляров 1-го класса (недовольный клиент). Он просто понял, что выгоднее всех считать довольными для увеличения метрики. Это одна из основных проблем сильного классового дизбаланса."
   ]
  },
  {
   "cell_type": "markdown",
   "metadata": {},
   "source": [
    "В целом могу сказать, что датасет довольно сложный, ибо в нем присутствует много ненужных и зависимых друг от друга признаков, не добавляющие ничего в модель, к тому же виден сильный классовый дизбаланс, из-за чего модель быстро скатывается в предсказание лишь одного класса для увеличения метрик. Считаю, что от алгоритма поиска ближайших соседей надо отказываться и переходить к более сложным и комплексным методам. Пример: XGBoost, CatBoost."
   ]
  },
  {
   "cell_type": "markdown",
   "metadata": {},
   "source": [
    "# Задание 2"
   ]
  },
  {
   "cell_type": "markdown",
   "metadata": {},
   "source": [
    "## XGBoost"
   ]
  },
  {
   "cell_type": "code",
   "execution_count": 39,
   "metadata": {},
   "outputs": [],
   "source": [
    "import xgboost as xgb"
   ]
  },
  {
   "cell_type": "code",
   "execution_count": 96,
   "metadata": {
    "scrolled": true
   },
   "outputs": [
    {
     "name": "stdout",
     "output_type": "stream",
     "text": [
      "[0]\tvalidation_0-auc:0.5\tvalidation_1-auc:0.5\n",
      "Multiple eval metrics have been passed: 'validation_1-auc' will be used for early stopping.\n",
      "\n",
      "Will train until validation_1-auc hasn't improved in 40 rounds.\n",
      "[1]\tvalidation_0-auc:0.5\tvalidation_1-auc:0.5\n",
      "[2]\tvalidation_0-auc:0.5\tvalidation_1-auc:0.5\n",
      "[3]\tvalidation_0-auc:0.5\tvalidation_1-auc:0.5\n",
      "[4]\tvalidation_0-auc:0.5\tvalidation_1-auc:0.5\n",
      "[5]\tvalidation_0-auc:0.5\tvalidation_1-auc:0.5\n",
      "[6]\tvalidation_0-auc:0.5\tvalidation_1-auc:0.5\n",
      "[7]\tvalidation_0-auc:0.5\tvalidation_1-auc:0.5\n",
      "[8]\tvalidation_0-auc:0.5\tvalidation_1-auc:0.5\n",
      "[9]\tvalidation_0-auc:0.5\tvalidation_1-auc:0.5\n",
      "[10]\tvalidation_0-auc:0.5\tvalidation_1-auc:0.5\n",
      "[11]\tvalidation_0-auc:0.5\tvalidation_1-auc:0.5\n",
      "[12]\tvalidation_0-auc:0.5\tvalidation_1-auc:0.5\n",
      "[13]\tvalidation_0-auc:0.5\tvalidation_1-auc:0.5\n",
      "[14]\tvalidation_0-auc:0.5\tvalidation_1-auc:0.5\n",
      "[15]\tvalidation_0-auc:0.5\tvalidation_1-auc:0.5\n",
      "[16]\tvalidation_0-auc:0.5\tvalidation_1-auc:0.5\n",
      "[17]\tvalidation_0-auc:0.5\tvalidation_1-auc:0.5\n",
      "[18]\tvalidation_0-auc:0.5\tvalidation_1-auc:0.5\n",
      "[19]\tvalidation_0-auc:0.679632\tvalidation_1-auc:0.682631\n",
      "[20]\tvalidation_0-auc:0.714577\tvalidation_1-auc:0.716684\n",
      "[21]\tvalidation_0-auc:0.714577\tvalidation_1-auc:0.716684\n",
      "[22]\tvalidation_0-auc:0.714522\tvalidation_1-auc:0.716414\n",
      "[23]\tvalidation_0-auc:0.715693\tvalidation_1-auc:0.716714\n",
      "[24]\tvalidation_0-auc:0.715693\tvalidation_1-auc:0.716714\n",
      "[25]\tvalidation_0-auc:0.715693\tvalidation_1-auc:0.716714\n",
      "[26]\tvalidation_0-auc:0.71765\tvalidation_1-auc:0.718638\n",
      "[27]\tvalidation_0-auc:0.717911\tvalidation_1-auc:0.718718\n",
      "[28]\tvalidation_0-auc:0.720515\tvalidation_1-auc:0.721416\n",
      "[29]\tvalidation_0-auc:0.720515\tvalidation_1-auc:0.721416\n",
      "[30]\tvalidation_0-auc:0.720684\tvalidation_1-auc:0.721767\n",
      "[31]\tvalidation_0-auc:0.720891\tvalidation_1-auc:0.721709\n",
      "[32]\tvalidation_0-auc:0.7212\tvalidation_1-auc:0.722079\n",
      "[33]\tvalidation_0-auc:0.7212\tvalidation_1-auc:0.722076\n",
      "[34]\tvalidation_0-auc:0.729921\tvalidation_1-auc:0.730601\n",
      "[35]\tvalidation_0-auc:0.732933\tvalidation_1-auc:0.732732\n",
      "[36]\tvalidation_0-auc:0.776836\tvalidation_1-auc:0.772078\n",
      "[37]\tvalidation_0-auc:0.776872\tvalidation_1-auc:0.772207\n",
      "[38]\tvalidation_0-auc:0.777089\tvalidation_1-auc:0.772087\n",
      "[39]\tvalidation_0-auc:0.778201\tvalidation_1-auc:0.771579\n",
      "[40]\tvalidation_0-auc:0.799465\tvalidation_1-auc:0.791307\n",
      "[41]\tvalidation_0-auc:0.801285\tvalidation_1-auc:0.794464\n",
      "[42]\tvalidation_0-auc:0.805589\tvalidation_1-auc:0.798428\n",
      "[43]\tvalidation_0-auc:0.804955\tvalidation_1-auc:0.797132\n",
      "[44]\tvalidation_0-auc:0.803237\tvalidation_1-auc:0.795793\n",
      "[45]\tvalidation_0-auc:0.806029\tvalidation_1-auc:0.798762\n",
      "[46]\tvalidation_0-auc:0.808102\tvalidation_1-auc:0.798298\n",
      "[47]\tvalidation_0-auc:0.81498\tvalidation_1-auc:0.806637\n",
      "[48]\tvalidation_0-auc:0.811948\tvalidation_1-auc:0.803299\n",
      "[49]\tvalidation_0-auc:0.816356\tvalidation_1-auc:0.806567\n",
      "[50]\tvalidation_0-auc:0.815248\tvalidation_1-auc:0.804667\n",
      "[51]\tvalidation_0-auc:0.820776\tvalidation_1-auc:0.808256\n",
      "[52]\tvalidation_0-auc:0.819201\tvalidation_1-auc:0.807444\n",
      "[53]\tvalidation_0-auc:0.824881\tvalidation_1-auc:0.81431\n",
      "[54]\tvalidation_0-auc:0.823951\tvalidation_1-auc:0.812533\n",
      "[55]\tvalidation_0-auc:0.827485\tvalidation_1-auc:0.816609\n",
      "[56]\tvalidation_0-auc:0.825531\tvalidation_1-auc:0.81432\n",
      "[57]\tvalidation_0-auc:0.829287\tvalidation_1-auc:0.817481\n",
      "[58]\tvalidation_0-auc:0.832035\tvalidation_1-auc:0.820822\n",
      "[59]\tvalidation_0-auc:0.831293\tvalidation_1-auc:0.819293\n",
      "[60]\tvalidation_0-auc:0.830247\tvalidation_1-auc:0.81736\n",
      "[61]\tvalidation_0-auc:0.829938\tvalidation_1-auc:0.817024\n",
      "[62]\tvalidation_0-auc:0.830068\tvalidation_1-auc:0.815911\n",
      "[63]\tvalidation_0-auc:0.832745\tvalidation_1-auc:0.818831\n",
      "[64]\tvalidation_0-auc:0.832411\tvalidation_1-auc:0.817993\n",
      "[65]\tvalidation_0-auc:0.833964\tvalidation_1-auc:0.819908\n",
      "[66]\tvalidation_0-auc:0.835422\tvalidation_1-auc:0.821332\n",
      "[67]\tvalidation_0-auc:0.835059\tvalidation_1-auc:0.821728\n",
      "[68]\tvalidation_0-auc:0.835117\tvalidation_1-auc:0.822042\n",
      "[69]\tvalidation_0-auc:0.835265\tvalidation_1-auc:0.822602\n",
      "[70]\tvalidation_0-auc:0.834991\tvalidation_1-auc:0.821771\n",
      "[71]\tvalidation_0-auc:0.834677\tvalidation_1-auc:0.821199\n",
      "[72]\tvalidation_0-auc:0.834334\tvalidation_1-auc:0.820711\n",
      "[73]\tvalidation_0-auc:0.836858\tvalidation_1-auc:0.823524\n",
      "[74]\tvalidation_0-auc:0.838677\tvalidation_1-auc:0.825547\n",
      "[75]\tvalidation_0-auc:0.839561\tvalidation_1-auc:0.827236\n",
      "[76]\tvalidation_0-auc:0.840659\tvalidation_1-auc:0.828173\n",
      "[77]\tvalidation_0-auc:0.840929\tvalidation_1-auc:0.828362\n",
      "[78]\tvalidation_0-auc:0.841412\tvalidation_1-auc:0.828937\n",
      "[79]\tvalidation_0-auc:0.841626\tvalidation_1-auc:0.828757\n",
      "[80]\tvalidation_0-auc:0.842748\tvalidation_1-auc:0.829849\n",
      "[81]\tvalidation_0-auc:0.843124\tvalidation_1-auc:0.829689\n",
      "[82]\tvalidation_0-auc:0.844058\tvalidation_1-auc:0.83077\n",
      "[83]\tvalidation_0-auc:0.844913\tvalidation_1-auc:0.831976\n",
      "[84]\tvalidation_0-auc:0.845475\tvalidation_1-auc:0.83261\n",
      "[85]\tvalidation_0-auc:0.846163\tvalidation_1-auc:0.833564\n",
      "[86]\tvalidation_0-auc:0.84678\tvalidation_1-auc:0.834102\n",
      "[87]\tvalidation_0-auc:0.847087\tvalidation_1-auc:0.834487\n",
      "[88]\tvalidation_0-auc:0.847293\tvalidation_1-auc:0.834367\n",
      "[89]\tvalidation_0-auc:0.847358\tvalidation_1-auc:0.834544\n",
      "[90]\tvalidation_0-auc:0.847657\tvalidation_1-auc:0.834874\n",
      "[91]\tvalidation_0-auc:0.848012\tvalidation_1-auc:0.834833\n",
      "[92]\tvalidation_0-auc:0.848517\tvalidation_1-auc:0.835359\n",
      "[93]\tvalidation_0-auc:0.848737\tvalidation_1-auc:0.835697\n",
      "[94]\tvalidation_0-auc:0.848917\tvalidation_1-auc:0.835929\n",
      "[95]\tvalidation_0-auc:0.849049\tvalidation_1-auc:0.836029\n",
      "[96]\tvalidation_0-auc:0.849274\tvalidation_1-auc:0.836365\n",
      "[97]\tvalidation_0-auc:0.849414\tvalidation_1-auc:0.836479\n",
      "[98]\tvalidation_0-auc:0.849676\tvalidation_1-auc:0.836573\n",
      "[99]\tvalidation_0-auc:0.849969\tvalidation_1-auc:0.836545\n",
      "[100]\tvalidation_0-auc:0.850328\tvalidation_1-auc:0.836701\n",
      "[101]\tvalidation_0-auc:0.8506\tvalidation_1-auc:0.836939\n",
      "[102]\tvalidation_0-auc:0.850804\tvalidation_1-auc:0.836947\n",
      "[103]\tvalidation_0-auc:0.850927\tvalidation_1-auc:0.837117\n",
      "[104]\tvalidation_0-auc:0.851089\tvalidation_1-auc:0.837191\n",
      "[105]\tvalidation_0-auc:0.851306\tvalidation_1-auc:0.837165\n",
      "[106]\tvalidation_0-auc:0.851494\tvalidation_1-auc:0.837142\n",
      "[107]\tvalidation_0-auc:0.851696\tvalidation_1-auc:0.837451\n",
      "[108]\tvalidation_0-auc:0.851942\tvalidation_1-auc:0.837433\n",
      "[109]\tvalidation_0-auc:0.85207\tvalidation_1-auc:0.837483\n",
      "[110]\tvalidation_0-auc:0.852233\tvalidation_1-auc:0.837786\n",
      "[111]\tvalidation_0-auc:0.852374\tvalidation_1-auc:0.837931\n",
      "[112]\tvalidation_0-auc:0.852533\tvalidation_1-auc:0.83787\n",
      "[113]\tvalidation_0-auc:0.852699\tvalidation_1-auc:0.83804\n",
      "[114]\tvalidation_0-auc:0.85273\tvalidation_1-auc:0.838126\n",
      "[115]\tvalidation_0-auc:0.852971\tvalidation_1-auc:0.838184\n",
      "[116]\tvalidation_0-auc:0.853139\tvalidation_1-auc:0.838152\n",
      "[117]\tvalidation_0-auc:0.853207\tvalidation_1-auc:0.838254\n",
      "[118]\tvalidation_0-auc:0.853349\tvalidation_1-auc:0.838361\n",
      "[119]\tvalidation_0-auc:0.853539\tvalidation_1-auc:0.838593\n",
      "[120]\tvalidation_0-auc:0.853672\tvalidation_1-auc:0.838698\n",
      "[121]\tvalidation_0-auc:0.853854\tvalidation_1-auc:0.838762\n",
      "[122]\tvalidation_0-auc:0.854013\tvalidation_1-auc:0.838891\n",
      "[123]\tvalidation_0-auc:0.854134\tvalidation_1-auc:0.83893\n",
      "[124]\tvalidation_0-auc:0.854221\tvalidation_1-auc:0.838895\n",
      "[125]\tvalidation_0-auc:0.854408\tvalidation_1-auc:0.838914\n",
      "[126]\tvalidation_0-auc:0.854481\tvalidation_1-auc:0.838913\n",
      "[127]\tvalidation_0-auc:0.854546\tvalidation_1-auc:0.839028\n",
      "[128]\tvalidation_0-auc:0.85472\tvalidation_1-auc:0.839098\n",
      "[129]\tvalidation_0-auc:0.854786\tvalidation_1-auc:0.839213\n",
      "[130]\tvalidation_0-auc:0.854891\tvalidation_1-auc:0.839175\n",
      "[131]\tvalidation_0-auc:0.855046\tvalidation_1-auc:0.839183\n",
      "[132]\tvalidation_0-auc:0.855144\tvalidation_1-auc:0.839224\n",
      "[133]\tvalidation_0-auc:0.855243\tvalidation_1-auc:0.839276\n",
      "[134]\tvalidation_0-auc:0.855343\tvalidation_1-auc:0.839287\n",
      "[135]\tvalidation_0-auc:0.855435\tvalidation_1-auc:0.839408\n",
      "[136]\tvalidation_0-auc:0.855522\tvalidation_1-auc:0.839462\n",
      "[137]\tvalidation_0-auc:0.855648\tvalidation_1-auc:0.839525\n",
      "[138]\tvalidation_0-auc:0.855709\tvalidation_1-auc:0.839513\n",
      "[139]\tvalidation_0-auc:0.855749\tvalidation_1-auc:0.839549\n",
      "[140]\tvalidation_0-auc:0.855983\tvalidation_1-auc:0.839547\n",
      "[141]\tvalidation_0-auc:0.856065\tvalidation_1-auc:0.839485\n",
      "[142]\tvalidation_0-auc:0.856186\tvalidation_1-auc:0.839502\n",
      "[143]\tvalidation_0-auc:0.856325\tvalidation_1-auc:0.839575\n",
      "[144]\tvalidation_0-auc:0.856425\tvalidation_1-auc:0.83954\n"
     ]
    },
    {
     "name": "stdout",
     "output_type": "stream",
     "text": [
      "[145]\tvalidation_0-auc:0.856507\tvalidation_1-auc:0.839558\n",
      "[146]\tvalidation_0-auc:0.856608\tvalidation_1-auc:0.83951\n",
      "[147]\tvalidation_0-auc:0.856774\tvalidation_1-auc:0.839638\n",
      "[148]\tvalidation_0-auc:0.856919\tvalidation_1-auc:0.839844\n",
      "[149]\tvalidation_0-auc:0.857001\tvalidation_1-auc:0.83986\n",
      "[150]\tvalidation_0-auc:0.857144\tvalidation_1-auc:0.839832\n",
      "[151]\tvalidation_0-auc:0.857274\tvalidation_1-auc:0.839761\n",
      "[152]\tvalidation_0-auc:0.857318\tvalidation_1-auc:0.839769\n",
      "[153]\tvalidation_0-auc:0.857445\tvalidation_1-auc:0.83977\n",
      "[154]\tvalidation_0-auc:0.857534\tvalidation_1-auc:0.839808\n",
      "[155]\tvalidation_0-auc:0.857606\tvalidation_1-auc:0.839796\n",
      "[156]\tvalidation_0-auc:0.857709\tvalidation_1-auc:0.839848\n",
      "[157]\tvalidation_0-auc:0.85783\tvalidation_1-auc:0.839743\n",
      "[158]\tvalidation_0-auc:0.857903\tvalidation_1-auc:0.839688\n",
      "[159]\tvalidation_0-auc:0.857996\tvalidation_1-auc:0.839669\n",
      "[160]\tvalidation_0-auc:0.858095\tvalidation_1-auc:0.839758\n",
      "[161]\tvalidation_0-auc:0.858207\tvalidation_1-auc:0.839799\n",
      "[162]\tvalidation_0-auc:0.858541\tvalidation_1-auc:0.839908\n",
      "[163]\tvalidation_0-auc:0.858587\tvalidation_1-auc:0.839921\n",
      "[164]\tvalidation_0-auc:0.858727\tvalidation_1-auc:0.839867\n",
      "[165]\tvalidation_0-auc:0.858824\tvalidation_1-auc:0.839869\n",
      "[166]\tvalidation_0-auc:0.858928\tvalidation_1-auc:0.839876\n",
      "[167]\tvalidation_0-auc:0.858993\tvalidation_1-auc:0.839898\n",
      "[168]\tvalidation_0-auc:0.859117\tvalidation_1-auc:0.839904\n",
      "[169]\tvalidation_0-auc:0.85921\tvalidation_1-auc:0.839924\n",
      "[170]\tvalidation_0-auc:0.859306\tvalidation_1-auc:0.840008\n",
      "[171]\tvalidation_0-auc:0.859373\tvalidation_1-auc:0.839999\n",
      "[172]\tvalidation_0-auc:0.859442\tvalidation_1-auc:0.840057\n",
      "[173]\tvalidation_0-auc:0.859526\tvalidation_1-auc:0.840059\n",
      "[174]\tvalidation_0-auc:0.859602\tvalidation_1-auc:0.840025\n",
      "[175]\tvalidation_0-auc:0.859717\tvalidation_1-auc:0.840084\n",
      "[176]\tvalidation_0-auc:0.859826\tvalidation_1-auc:0.840157\n",
      "[177]\tvalidation_0-auc:0.859962\tvalidation_1-auc:0.840221\n",
      "[178]\tvalidation_0-auc:0.860088\tvalidation_1-auc:0.840189\n",
      "[179]\tvalidation_0-auc:0.860142\tvalidation_1-auc:0.840191\n",
      "[180]\tvalidation_0-auc:0.860253\tvalidation_1-auc:0.840164\n",
      "[181]\tvalidation_0-auc:0.860401\tvalidation_1-auc:0.840145\n",
      "[182]\tvalidation_0-auc:0.860493\tvalidation_1-auc:0.840227\n",
      "[183]\tvalidation_0-auc:0.860595\tvalidation_1-auc:0.840187\n",
      "[184]\tvalidation_0-auc:0.860717\tvalidation_1-auc:0.84015\n",
      "[185]\tvalidation_0-auc:0.860786\tvalidation_1-auc:0.840142\n",
      "[186]\tvalidation_0-auc:0.860913\tvalidation_1-auc:0.840164\n",
      "[187]\tvalidation_0-auc:0.860984\tvalidation_1-auc:0.840147\n",
      "[188]\tvalidation_0-auc:0.86103\tvalidation_1-auc:0.840164\n",
      "[189]\tvalidation_0-auc:0.861115\tvalidation_1-auc:0.840179\n",
      "[190]\tvalidation_0-auc:0.861202\tvalidation_1-auc:0.840165\n",
      "[191]\tvalidation_0-auc:0.861262\tvalidation_1-auc:0.840231\n",
      "[192]\tvalidation_0-auc:0.861353\tvalidation_1-auc:0.840244\n",
      "[193]\tvalidation_0-auc:0.861509\tvalidation_1-auc:0.840288\n",
      "[194]\tvalidation_0-auc:0.861629\tvalidation_1-auc:0.84026\n",
      "[195]\tvalidation_0-auc:0.861802\tvalidation_1-auc:0.840267\n",
      "[196]\tvalidation_0-auc:0.861867\tvalidation_1-auc:0.840284\n",
      "[197]\tvalidation_0-auc:0.862059\tvalidation_1-auc:0.840303\n",
      "[198]\tvalidation_0-auc:0.862145\tvalidation_1-auc:0.840319\n",
      "[199]\tvalidation_0-auc:0.862206\tvalidation_1-auc:0.840354\n",
      "[200]\tvalidation_0-auc:0.862248\tvalidation_1-auc:0.840345\n",
      "[201]\tvalidation_0-auc:0.862312\tvalidation_1-auc:0.840399\n",
      "[202]\tvalidation_0-auc:0.862369\tvalidation_1-auc:0.840409\n",
      "[203]\tvalidation_0-auc:0.862478\tvalidation_1-auc:0.840361\n",
      "[204]\tvalidation_0-auc:0.862605\tvalidation_1-auc:0.840301\n",
      "[205]\tvalidation_0-auc:0.86274\tvalidation_1-auc:0.8404\n",
      "[206]\tvalidation_0-auc:0.862836\tvalidation_1-auc:0.840379\n",
      "[207]\tvalidation_0-auc:0.862958\tvalidation_1-auc:0.840326\n",
      "[208]\tvalidation_0-auc:0.863044\tvalidation_1-auc:0.840235\n",
      "[209]\tvalidation_0-auc:0.863236\tvalidation_1-auc:0.840258\n",
      "[210]\tvalidation_0-auc:0.86334\tvalidation_1-auc:0.840355\n",
      "[211]\tvalidation_0-auc:0.863433\tvalidation_1-auc:0.840342\n",
      "[212]\tvalidation_0-auc:0.863521\tvalidation_1-auc:0.840341\n",
      "[213]\tvalidation_0-auc:0.863585\tvalidation_1-auc:0.840454\n",
      "[214]\tvalidation_0-auc:0.863664\tvalidation_1-auc:0.840394\n",
      "[215]\tvalidation_0-auc:0.863723\tvalidation_1-auc:0.840411\n",
      "[216]\tvalidation_0-auc:0.863756\tvalidation_1-auc:0.840359\n",
      "[217]\tvalidation_0-auc:0.863835\tvalidation_1-auc:0.840397\n",
      "[218]\tvalidation_0-auc:0.863963\tvalidation_1-auc:0.840346\n",
      "[219]\tvalidation_0-auc:0.864029\tvalidation_1-auc:0.840344\n",
      "[220]\tvalidation_0-auc:0.864055\tvalidation_1-auc:0.840307\n",
      "[221]\tvalidation_0-auc:0.864116\tvalidation_1-auc:0.840341\n",
      "[222]\tvalidation_0-auc:0.864174\tvalidation_1-auc:0.840266\n",
      "[223]\tvalidation_0-auc:0.864318\tvalidation_1-auc:0.840364\n",
      "[224]\tvalidation_0-auc:0.864385\tvalidation_1-auc:0.840357\n",
      "[225]\tvalidation_0-auc:0.864472\tvalidation_1-auc:0.840407\n",
      "[226]\tvalidation_0-auc:0.864583\tvalidation_1-auc:0.840418\n",
      "[227]\tvalidation_0-auc:0.864668\tvalidation_1-auc:0.840483\n",
      "[228]\tvalidation_0-auc:0.864807\tvalidation_1-auc:0.840457\n",
      "[229]\tvalidation_0-auc:0.864859\tvalidation_1-auc:0.840437\n",
      "[230]\tvalidation_0-auc:0.864952\tvalidation_1-auc:0.840464\n",
      "[231]\tvalidation_0-auc:0.865043\tvalidation_1-auc:0.840504\n",
      "[232]\tvalidation_0-auc:0.865106\tvalidation_1-auc:0.840417\n",
      "[233]\tvalidation_0-auc:0.865174\tvalidation_1-auc:0.840368\n",
      "[234]\tvalidation_0-auc:0.865213\tvalidation_1-auc:0.840357\n",
      "[235]\tvalidation_0-auc:0.86532\tvalidation_1-auc:0.840423\n",
      "[236]\tvalidation_0-auc:0.865371\tvalidation_1-auc:0.840489\n",
      "[237]\tvalidation_0-auc:0.865411\tvalidation_1-auc:0.840518\n",
      "[238]\tvalidation_0-auc:0.865438\tvalidation_1-auc:0.840562\n",
      "[239]\tvalidation_0-auc:0.865487\tvalidation_1-auc:0.840561\n",
      "[240]\tvalidation_0-auc:0.865657\tvalidation_1-auc:0.840601\n",
      "[241]\tvalidation_0-auc:0.865719\tvalidation_1-auc:0.840624\n",
      "[242]\tvalidation_0-auc:0.865788\tvalidation_1-auc:0.840614\n",
      "[243]\tvalidation_0-auc:0.865843\tvalidation_1-auc:0.840605\n",
      "[244]\tvalidation_0-auc:0.865914\tvalidation_1-auc:0.840672\n",
      "[245]\tvalidation_0-auc:0.865954\tvalidation_1-auc:0.84066\n",
      "[246]\tvalidation_0-auc:0.866077\tvalidation_1-auc:0.840623\n",
      "[247]\tvalidation_0-auc:0.866169\tvalidation_1-auc:0.840594\n",
      "[248]\tvalidation_0-auc:0.866262\tvalidation_1-auc:0.8407\n",
      "[249]\tvalidation_0-auc:0.866311\tvalidation_1-auc:0.84069\n",
      "[250]\tvalidation_0-auc:0.86639\tvalidation_1-auc:0.840699\n",
      "[251]\tvalidation_0-auc:0.866482\tvalidation_1-auc:0.840695\n",
      "[252]\tvalidation_0-auc:0.86655\tvalidation_1-auc:0.840721\n",
      "[253]\tvalidation_0-auc:0.866601\tvalidation_1-auc:0.840714\n",
      "[254]\tvalidation_0-auc:0.866647\tvalidation_1-auc:0.840757\n",
      "[255]\tvalidation_0-auc:0.866687\tvalidation_1-auc:0.840686\n",
      "[256]\tvalidation_0-auc:0.866807\tvalidation_1-auc:0.840697\n",
      "[257]\tvalidation_0-auc:0.866908\tvalidation_1-auc:0.840737\n",
      "[258]\tvalidation_0-auc:0.867005\tvalidation_1-auc:0.840718\n",
      "[259]\tvalidation_0-auc:0.867121\tvalidation_1-auc:0.840711\n",
      "[260]\tvalidation_0-auc:0.867185\tvalidation_1-auc:0.84073\n",
      "[261]\tvalidation_0-auc:0.867257\tvalidation_1-auc:0.840747\n",
      "[262]\tvalidation_0-auc:0.867321\tvalidation_1-auc:0.84079\n",
      "[263]\tvalidation_0-auc:0.867395\tvalidation_1-auc:0.840807\n",
      "[264]\tvalidation_0-auc:0.867414\tvalidation_1-auc:0.840796\n",
      "[265]\tvalidation_0-auc:0.867462\tvalidation_1-auc:0.840787\n",
      "[266]\tvalidation_0-auc:0.867513\tvalidation_1-auc:0.840752\n",
      "[267]\tvalidation_0-auc:0.867562\tvalidation_1-auc:0.840838\n",
      "[268]\tvalidation_0-auc:0.867647\tvalidation_1-auc:0.84084\n",
      "[269]\tvalidation_0-auc:0.867724\tvalidation_1-auc:0.84089\n",
      "[270]\tvalidation_0-auc:0.867805\tvalidation_1-auc:0.840877\n",
      "[271]\tvalidation_0-auc:0.867865\tvalidation_1-auc:0.84089\n",
      "[272]\tvalidation_0-auc:0.86797\tvalidation_1-auc:0.840906\n",
      "[273]\tvalidation_0-auc:0.868035\tvalidation_1-auc:0.840921\n",
      "[274]\tvalidation_0-auc:0.868078\tvalidation_1-auc:0.840926\n",
      "[275]\tvalidation_0-auc:0.868151\tvalidation_1-auc:0.840987\n",
      "[276]\tvalidation_0-auc:0.868227\tvalidation_1-auc:0.840914\n",
      "[277]\tvalidation_0-auc:0.868308\tvalidation_1-auc:0.840963\n",
      "[278]\tvalidation_0-auc:0.868423\tvalidation_1-auc:0.840967\n",
      "[279]\tvalidation_0-auc:0.868459\tvalidation_1-auc:0.84092\n",
      "[280]\tvalidation_0-auc:0.868519\tvalidation_1-auc:0.840963\n",
      "[281]\tvalidation_0-auc:0.868636\tvalidation_1-auc:0.840983\n",
      "[282]\tvalidation_0-auc:0.868671\tvalidation_1-auc:0.840961\n",
      "[283]\tvalidation_0-auc:0.868742\tvalidation_1-auc:0.840945\n",
      "[284]\tvalidation_0-auc:0.868755\tvalidation_1-auc:0.84094\n",
      "[285]\tvalidation_0-auc:0.868831\tvalidation_1-auc:0.840936\n",
      "[286]\tvalidation_0-auc:0.868896\tvalidation_1-auc:0.840886\n"
     ]
    },
    {
     "name": "stdout",
     "output_type": "stream",
     "text": [
      "[287]\tvalidation_0-auc:0.868939\tvalidation_1-auc:0.840903\n",
      "[288]\tvalidation_0-auc:0.868966\tvalidation_1-auc:0.840936\n",
      "[289]\tvalidation_0-auc:0.86905\tvalidation_1-auc:0.840958\n",
      "[290]\tvalidation_0-auc:0.869091\tvalidation_1-auc:0.840971\n",
      "[291]\tvalidation_0-auc:0.869165\tvalidation_1-auc:0.840948\n",
      "[292]\tvalidation_0-auc:0.869273\tvalidation_1-auc:0.84101\n",
      "[293]\tvalidation_0-auc:0.869329\tvalidation_1-auc:0.841017\n",
      "[294]\tvalidation_0-auc:0.869351\tvalidation_1-auc:0.841036\n",
      "[295]\tvalidation_0-auc:0.869447\tvalidation_1-auc:0.840982\n",
      "[296]\tvalidation_0-auc:0.869502\tvalidation_1-auc:0.840937\n",
      "[297]\tvalidation_0-auc:0.869574\tvalidation_1-auc:0.841007\n",
      "[298]\tvalidation_0-auc:0.869669\tvalidation_1-auc:0.840961\n",
      "[299]\tvalidation_0-auc:0.869707\tvalidation_1-auc:0.841015\n",
      "[300]\tvalidation_0-auc:0.869827\tvalidation_1-auc:0.840964\n",
      "[301]\tvalidation_0-auc:0.869863\tvalidation_1-auc:0.840867\n",
      "[302]\tvalidation_0-auc:0.869894\tvalidation_1-auc:0.840833\n",
      "[303]\tvalidation_0-auc:0.869943\tvalidation_1-auc:0.84081\n",
      "[304]\tvalidation_0-auc:0.869995\tvalidation_1-auc:0.840784\n",
      "[305]\tvalidation_0-auc:0.870052\tvalidation_1-auc:0.840853\n",
      "[306]\tvalidation_0-auc:0.870156\tvalidation_1-auc:0.84097\n",
      "[307]\tvalidation_0-auc:0.870208\tvalidation_1-auc:0.840998\n",
      "[308]\tvalidation_0-auc:0.870225\tvalidation_1-auc:0.840995\n",
      "[309]\tvalidation_0-auc:0.870281\tvalidation_1-auc:0.841047\n",
      "[310]\tvalidation_0-auc:0.870347\tvalidation_1-auc:0.840931\n",
      "[311]\tvalidation_0-auc:0.87037\tvalidation_1-auc:0.84097\n",
      "[312]\tvalidation_0-auc:0.870477\tvalidation_1-auc:0.840904\n",
      "[313]\tvalidation_0-auc:0.870493\tvalidation_1-auc:0.840862\n",
      "[314]\tvalidation_0-auc:0.870533\tvalidation_1-auc:0.84089\n",
      "[315]\tvalidation_0-auc:0.870598\tvalidation_1-auc:0.84083\n",
      "[316]\tvalidation_0-auc:0.870679\tvalidation_1-auc:0.840863\n",
      "[317]\tvalidation_0-auc:0.870743\tvalidation_1-auc:0.840805\n",
      "[318]\tvalidation_0-auc:0.870769\tvalidation_1-auc:0.840747\n",
      "[319]\tvalidation_0-auc:0.870823\tvalidation_1-auc:0.840823\n",
      "[320]\tvalidation_0-auc:0.870887\tvalidation_1-auc:0.840789\n",
      "[321]\tvalidation_0-auc:0.870946\tvalidation_1-auc:0.840778\n",
      "[322]\tvalidation_0-auc:0.871012\tvalidation_1-auc:0.840732\n",
      "[323]\tvalidation_0-auc:0.871109\tvalidation_1-auc:0.840679\n",
      "[324]\tvalidation_0-auc:0.871164\tvalidation_1-auc:0.840706\n",
      "[325]\tvalidation_0-auc:0.871239\tvalidation_1-auc:0.840677\n",
      "[326]\tvalidation_0-auc:0.871279\tvalidation_1-auc:0.840732\n",
      "[327]\tvalidation_0-auc:0.871338\tvalidation_1-auc:0.840726\n",
      "[328]\tvalidation_0-auc:0.871384\tvalidation_1-auc:0.840706\n",
      "[329]\tvalidation_0-auc:0.871469\tvalidation_1-auc:0.840646\n",
      "[330]\tvalidation_0-auc:0.871504\tvalidation_1-auc:0.840626\n",
      "[331]\tvalidation_0-auc:0.871579\tvalidation_1-auc:0.840662\n",
      "[332]\tvalidation_0-auc:0.871645\tvalidation_1-auc:0.840685\n",
      "[333]\tvalidation_0-auc:0.871671\tvalidation_1-auc:0.840605\n",
      "[334]\tvalidation_0-auc:0.871705\tvalidation_1-auc:0.840634\n",
      "[335]\tvalidation_0-auc:0.871787\tvalidation_1-auc:0.840621\n",
      "[336]\tvalidation_0-auc:0.871829\tvalidation_1-auc:0.84066\n",
      "[337]\tvalidation_0-auc:0.871873\tvalidation_1-auc:0.840659\n",
      "[338]\tvalidation_0-auc:0.871912\tvalidation_1-auc:0.84064\n",
      "[339]\tvalidation_0-auc:0.87193\tvalidation_1-auc:0.840621\n",
      "[340]\tvalidation_0-auc:0.871942\tvalidation_1-auc:0.840625\n",
      "[341]\tvalidation_0-auc:0.871991\tvalidation_1-auc:0.84057\n",
      "[342]\tvalidation_0-auc:0.872009\tvalidation_1-auc:0.840571\n",
      "[343]\tvalidation_0-auc:0.872054\tvalidation_1-auc:0.840567\n",
      "[344]\tvalidation_0-auc:0.872123\tvalidation_1-auc:0.840554\n",
      "[345]\tvalidation_0-auc:0.872163\tvalidation_1-auc:0.840507\n",
      "[346]\tvalidation_0-auc:0.872184\tvalidation_1-auc:0.840538\n",
      "[347]\tvalidation_0-auc:0.872241\tvalidation_1-auc:0.840486\n",
      "[348]\tvalidation_0-auc:0.872283\tvalidation_1-auc:0.840488\n",
      "[349]\tvalidation_0-auc:0.872323\tvalidation_1-auc:0.840484\n",
      "Stopping. Best iteration:\n",
      "[309]\tvalidation_0-auc:0.870281\tvalidation_1-auc:0.841047\n",
      "\n"
     ]
    },
    {
     "data": {
      "text/plain": [
       "XGBClassifier(base_score=0.5, booster='gbtree', colsample_bylevel=1,\n",
       "              colsample_bynode=1, colsample_bytree=0.5, gamma=0,\n",
       "              learning_rate=0.1, max_delta_step=0, max_depth=8,\n",
       "              min_child_weight=3, missing=9999999999, n_estimators=1000,\n",
       "              n_jobs=1, nthread=4, objective='binary:logistic', random_state=0,\n",
       "              reg_alpha=0.03, reg_lambda=1,\n",
       "              scale_pos_weight=0.04119870706185284, seed=10000, silent=None,\n",
       "              subsample=1.0, verbosity=1)"
      ]
     },
     "execution_count": 96,
     "metadata": {},
     "output_type": "execute_result"
    }
   ],
   "source": [
    "ratio = float(np.sum(Y == 1)) / np.sum(Y==0)\n",
    "clf = xgb.XGBClassifier(missing=9999999999,\n",
    "                max_depth = 8,\n",
    "                n_estimators=1000,\n",
    "                learning_rate=0.1, \n",
    "                nthread=4,\n",
    "                subsample=1.0,\n",
    "                colsample_bytree=0.5,\n",
    "                min_child_weight = 3,\n",
    "                scale_pos_weight = ratio,\n",
    "                reg_alpha=0.03,\n",
    "                seed=10000)\n",
    "                \n",
    "clf.fit(X_train, Y_train, early_stopping_rounds=40, eval_metric=\"auc\",\n",
    "        eval_set=[(X_train, Y_train), (X_test, Y_test)])"
   ]
  },
  {
   "cell_type": "code",
   "execution_count": 113,
   "metadata": {},
   "outputs": [
    {
     "name": "stdout",
     "output_type": "stream",
     "text": [
      "Final test AUC: 0.8410473296473673\n",
      "Accuracy on test: 0.9604177462430741\n",
      "[[24094     0]\n",
      " [  993     0]]\n"
     ]
    }
   ],
   "source": [
    "Y_pred = clf.predict(X_test)\n",
    "Y_pred_proba = clf.predict_proba(X_test)[:,1]\n",
    "print('Final test AUC:', roc_auc_score(Y_test, Y_pred_proba))\n",
    "print('Accuracy on test:', accuracy_score(Y_test, Y_pred))\n",
    "print(confusion_matrix(Y_test, Y_pred))"
   ]
  },
  {
   "cell_type": "markdown",
   "metadata": {},
   "source": [
    "Вот применил я XGBoost алгоритм и казалось бы - улучшение!!!\n",
    "А вот нет. Если я правильно интерпретирую confusion matrix, то XGBoost просто научился выдавать ВСЕМ семплам низкую вероятность недовольства.\n",
    "Т.е. мы получили такой же случай, что и с KNN, просто вероятности намного ближе находятся к нулю, оттого они не такие шумные, из-за чего и метрика AUC выше. Но по факту видно, что результат такой же - якобы все довольны."
   ]
  },
  {
   "cell_type": "code",
   "execution_count": 114,
   "metadata": {},
   "outputs": [
    {
     "data": {
      "text/plain": [
       "0"
      ]
     },
     "execution_count": 114,
     "metadata": {},
     "output_type": "execute_result"
    }
   ],
   "source": [
    "np.sum(Y_pred_proba > 0.1)"
   ]
  },
  {
   "cell_type": "markdown",
   "metadata": {},
   "source": [
    "Т.е. вероятностей недовольства больше, чем 0.1 модель не выдает в принципе."
   ]
  },
  {
   "cell_type": "code",
   "execution_count": 64,
   "metadata": {},
   "outputs": [
    {
     "data": {
      "image/png": "[encoded data removed]",
      "text/plain": [
       "<Figure size 576x720 with 1 Axes>"
      ]
     },
     "metadata": {
      "needs_background": "light"
     },
     "output_type": "display_data"
    }
   ],
   "source": [
    "ts = pd.Series(clf.feature_importances_)\n",
    "#ts.index = ts.reset_index()['index']\n",
    "ts.sort_values()[-15:].plot(kind=\"barh\", title=(\"features importance\"),figsize=(8,10))\n",
    "\n",
    "#featp = ts.sort_values()[-15:].plot(kind='barh', x='feature', y='fscore', legend=False, figsize=(6, 10))\n",
    "plt.title('XGBoost Feature Importance', fontsize=20);"
   ]
  },
  {
   "cell_type": "code",
   "execution_count": null,
   "metadata": {},
   "outputs": [],
   "source": []
  },
  {
   "cell_type": "code",
   "execution_count": null,
   "metadata": {},
   "outputs": [],
   "source": []
  },
  {
   "cell_type": "markdown",
   "metadata": {},
   "source": [
    "## Adding PCA components as features"
   ]
  },
  {
   "cell_type": "code",
   "execution_count": 121,
   "metadata": {},
   "outputs": [],
   "source": [
    "# Add PCA components as features\n",
    "from sklearn.preprocessing import normalize\n",
    "from sklearn.decomposition import PCA\n",
    "\n",
    "X = train.drop([\"TARGET\",\"ID\"],axis=1)\n",
    "X['n0'] = (X==0).sum(axis=1)\n",
    "X_normalized = normalize(X, axis=0)\n",
    "pca = PCA(n_components=2)\n",
    "X_pca = pca.fit_transform(X_normalized)\n",
    "X['PCA1'] = X_pca[:,0]\n",
    "X['PCA2'] = X_pca[:,1]"
   ]
  },
  {
   "cell_type": "code",
   "execution_count": 122,
   "metadata": {},
   "outputs": [
    {
     "data": {
      "text/plain": [
       "<matplotlib.collections.PathCollection at 0x62a5a320>"
      ]
     },
     "execution_count": 122,
     "metadata": {},
     "output_type": "execute_result"
    },
    {
     "data": {
      "image/png": "[encoded data removed]",
      "text/plain": [
       "<Figure size 432x288 with 1 Axes>"
      ]
     },
     "metadata": {
      "needs_background": "light"
     },
     "output_type": "display_data"
    }
   ],
   "source": [
    "plt.scatter(X['PCA1'],X['PCA2'])"
   ]
  },
  {
   "cell_type": "code",
   "execution_count": 130,
   "metadata": {
    "scrolled": true
   },
   "outputs": [
    {
     "name": "stderr",
     "output_type": "stream",
     "text": [
      "D:\\Anaconda\\envs\\facebook_RCNN\\lib\\site-packages\\sklearn\\preprocessing\\data.py:172: UserWarning: Numerical issues were encountered when centering the data and might not be solved. Dataset may contain too large values. You may need to prescale your features.\n",
      "  warnings.warn(\"Numerical issues were encountered \"\n"
     ]
    },
    {
     "name": "stdout",
     "output_type": "stream",
     "text": [
      "auc metric added\n"
     ]
    },
    {
     "name": "stderr",
     "output_type": "stream",
     "text": [
      "D:\\Anaconda\\envs\\facebook_RCNN\\lib\\site-packages\\sklearn\\preprocessing\\data.py:172: UserWarning: Numerical issues were encountered when centering the data and might not be solved. Dataset may contain too large values. You may need to prescale your features.\n",
      "  warnings.warn(\"Numerical issues were encountered \"\n"
     ]
    },
    {
     "name": "stdout",
     "output_type": "stream",
     "text": [
      "auc metric added\n"
     ]
    },
    {
     "name": "stderr",
     "output_type": "stream",
     "text": [
      "D:\\Anaconda\\envs\\facebook_RCNN\\lib\\site-packages\\sklearn\\preprocessing\\data.py:172: UserWarning: Numerical issues were encountered when centering the data and might not be solved. Dataset may contain too large values. You may need to prescale your features.\n",
      "  warnings.warn(\"Numerical issues were encountered \"\n"
     ]
    },
    {
     "name": "stdout",
     "output_type": "stream",
     "text": [
      "auc metric added\n"
     ]
    },
    {
     "name": "stderr",
     "output_type": "stream",
     "text": [
      "D:\\Anaconda\\envs\\facebook_RCNN\\lib\\site-packages\\sklearn\\preprocessing\\data.py:172: UserWarning: Numerical issues were encountered when centering the data and might not be solved. Dataset may contain too large values. You may need to prescale your features.\n",
      "  warnings.warn(\"Numerical issues were encountered \"\n"
     ]
    },
    {
     "name": "stdout",
     "output_type": "stream",
     "text": [
      "auc metric added\n"
     ]
    },
    {
     "name": "stderr",
     "output_type": "stream",
     "text": [
      "D:\\Anaconda\\envs\\facebook_RCNN\\lib\\site-packages\\sklearn\\preprocessing\\data.py:172: UserWarning: Numerical issues were encountered when centering the data and might not be solved. Dataset may contain too large values. You may need to prescale your features.\n",
      "  warnings.warn(\"Numerical issues were encountered \"\n"
     ]
    },
    {
     "name": "stdout",
     "output_type": "stream",
     "text": [
      "auc metric added\n"
     ]
    },
    {
     "name": "stderr",
     "output_type": "stream",
     "text": [
      "D:\\Anaconda\\envs\\facebook_RCNN\\lib\\site-packages\\sklearn\\preprocessing\\data.py:172: UserWarning: Numerical issues were encountered when centering the data and might not be solved. Dataset may contain too large values. You may need to prescale your features.\n",
      "  warnings.warn(\"Numerical issues were encountered \"\n"
     ]
    },
    {
     "name": "stdout",
     "output_type": "stream",
     "text": [
      "auc metric added\n"
     ]
    },
    {
     "name": "stderr",
     "output_type": "stream",
     "text": [
      "D:\\Anaconda\\envs\\facebook_RCNN\\lib\\site-packages\\sklearn\\preprocessing\\data.py:172: UserWarning: Numerical issues were encountered when centering the data and might not be solved. Dataset may contain too large values. You may need to prescale your features.\n",
      "  warnings.warn(\"Numerical issues were encountered \"\n"
     ]
    },
    {
     "name": "stdout",
     "output_type": "stream",
     "text": [
      "auc metric added\n"
     ]
    },
    {
     "name": "stderr",
     "output_type": "stream",
     "text": [
      "D:\\Anaconda\\envs\\facebook_RCNN\\lib\\site-packages\\sklearn\\preprocessing\\data.py:172: UserWarning: Numerical issues were encountered when centering the data and might not be solved. Dataset may contain too large values. You may need to prescale your features.\n",
      "  warnings.warn(\"Numerical issues were encountered \"\n"
     ]
    },
    {
     "name": "stdout",
     "output_type": "stream",
     "text": [
      "auc metric added\n"
     ]
    },
    {
     "name": "stderr",
     "output_type": "stream",
     "text": [
      "D:\\Anaconda\\envs\\facebook_RCNN\\lib\\site-packages\\sklearn\\preprocessing\\data.py:172: UserWarning: Numerical issues were encountered when centering the data and might not be solved. Dataset may contain too large values. You may need to prescale your features.\n",
      "  warnings.warn(\"Numerical issues were encountered \"\n"
     ]
    },
    {
     "name": "stdout",
     "output_type": "stream",
     "text": [
      "auc metric added\n"
     ]
    },
    {
     "name": "stderr",
     "output_type": "stream",
     "text": [
      "D:\\Anaconda\\envs\\facebook_RCNN\\lib\\site-packages\\sklearn\\preprocessing\\data.py:172: UserWarning: Numerical issues were encountered when centering the data and might not be solved. Dataset may contain too large values. You may need to prescale your features.\n",
      "  warnings.warn(\"Numerical issues were encountered \"\n"
     ]
    },
    {
     "name": "stdout",
     "output_type": "stream",
     "text": [
      "auc metric added\n"
     ]
    },
    {
     "name": "stderr",
     "output_type": "stream",
     "text": [
      "D:\\Anaconda\\envs\\facebook_RCNN\\lib\\site-packages\\sklearn\\preprocessing\\data.py:172: UserWarning: Numerical issues were encountered when centering the data and might not be solved. Dataset may contain too large values. You may need to prescale your features.\n",
      "  warnings.warn(\"Numerical issues were encountered \"\n"
     ]
    },
    {
     "name": "stdout",
     "output_type": "stream",
     "text": [
      "auc metric added\n"
     ]
    },
    {
     "name": "stderr",
     "output_type": "stream",
     "text": [
      "D:\\Anaconda\\envs\\facebook_RCNN\\lib\\site-packages\\sklearn\\preprocessing\\data.py:172: UserWarning: Numerical issues were encountered when centering the data and might not be solved. Dataset may contain too large values. You may need to prescale your features.\n",
      "  warnings.warn(\"Numerical issues were encountered \"\n"
     ]
    },
    {
     "name": "stdout",
     "output_type": "stream",
     "text": [
      "auc metric added\n"
     ]
    },
    {
     "name": "stderr",
     "output_type": "stream",
     "text": [
      "D:\\Anaconda\\envs\\facebook_RCNN\\lib\\site-packages\\sklearn\\preprocessing\\data.py:172: UserWarning: Numerical issues were encountered when centering the data and might not be solved. Dataset may contain too large values. You may need to prescale your features.\n",
      "  warnings.warn(\"Numerical issues were encountered \"\n"
     ]
    },
    {
     "name": "stdout",
     "output_type": "stream",
     "text": [
      "auc metric added\n"
     ]
    },
    {
     "name": "stderr",
     "output_type": "stream",
     "text": [
      "D:\\Anaconda\\envs\\facebook_RCNN\\lib\\site-packages\\sklearn\\preprocessing\\data.py:172: UserWarning: Numerical issues were encountered when centering the data and might not be solved. Dataset may contain too large values. You may need to prescale your features.\n",
      "  warnings.warn(\"Numerical issues were encountered \"\n"
     ]
    },
    {
     "name": "stdout",
     "output_type": "stream",
     "text": [
      "auc metric added\n"
     ]
    },
    {
     "name": "stderr",
     "output_type": "stream",
     "text": [
      "D:\\Anaconda\\envs\\facebook_RCNN\\lib\\site-packages\\sklearn\\preprocessing\\data.py:172: UserWarning: Numerical issues were encountered when centering the data and might not be solved. Dataset may contain too large values. You may need to prescale your features.\n",
      "  warnings.warn(\"Numerical issues were encountered \"\n"
     ]
    },
    {
     "name": "stdout",
     "output_type": "stream",
     "text": [
      "auc metric added\n"
     ]
    },
    {
     "name": "stderr",
     "output_type": "stream",
     "text": [
      "D:\\Anaconda\\envs\\facebook_RCNN\\lib\\site-packages\\sklearn\\preprocessing\\data.py:172: UserWarning: Numerical issues were encountered when centering the data and might not be solved. Dataset may contain too large values. You may need to prescale your features.\n",
      "  warnings.warn(\"Numerical issues were encountered \"\n"
     ]
    },
    {
     "name": "stdout",
     "output_type": "stream",
     "text": [
      "auc metric added\n"
     ]
    },
    {
     "name": "stderr",
     "output_type": "stream",
     "text": [
      "D:\\Anaconda\\envs\\facebook_RCNN\\lib\\site-packages\\sklearn\\preprocessing\\data.py:172: UserWarning: Numerical issues were encountered when centering the data and might not be solved. Dataset may contain too large values. You may need to prescale your features.\n",
      "  warnings.warn(\"Numerical issues were encountered \"\n"
     ]
    },
    {
     "name": "stdout",
     "output_type": "stream",
     "text": [
      "auc metric added\n"
     ]
    },
    {
     "name": "stderr",
     "output_type": "stream",
     "text": [
      "D:\\Anaconda\\envs\\facebook_RCNN\\lib\\site-packages\\sklearn\\preprocessing\\data.py:172: UserWarning: Numerical issues were encountered when centering the data and might not be solved. Dataset may contain too large values. You may need to prescale your features.\n",
      "  warnings.warn(\"Numerical issues were encountered \"\n"
     ]
    },
    {
     "name": "stdout",
     "output_type": "stream",
     "text": [
      "auc metric added\n"
     ]
    },
    {
     "name": "stderr",
     "output_type": "stream",
     "text": [
      "D:\\Anaconda\\envs\\facebook_RCNN\\lib\\site-packages\\sklearn\\preprocessing\\data.py:172: UserWarning: Numerical issues were encountered when centering the data and might not be solved. Dataset may contain too large values. You may need to prescale your features.\n",
      "  warnings.warn(\"Numerical issues were encountered \"\n"
     ]
    },
    {
     "name": "stdout",
     "output_type": "stream",
     "text": [
      "auc metric added\n"
     ]
    },
    {
     "name": "stderr",
     "output_type": "stream",
     "text": [
      "D:\\Anaconda\\envs\\facebook_RCNN\\lib\\site-packages\\sklearn\\preprocessing\\data.py:172: UserWarning: Numerical issues were encountered when centering the data and might not be solved. Dataset may contain too large values. You may need to prescale your features.\n",
      "  warnings.warn(\"Numerical issues were encountered \"\n"
     ]
    },
    {
     "name": "stdout",
     "output_type": "stream",
     "text": [
      "auc metric added\n"
     ]
    },
    {
     "name": "stderr",
     "output_type": "stream",
     "text": [
      "D:\\Anaconda\\envs\\facebook_RCNN\\lib\\site-packages\\sklearn\\preprocessing\\data.py:172: UserWarning: Numerical issues were encountered when centering the data and might not be solved. Dataset may contain too large values. You may need to prescale your features.\n",
      "  warnings.warn(\"Numerical issues were encountered \"\n"
     ]
    },
    {
     "name": "stdout",
     "output_type": "stream",
     "text": [
      "auc metric added\n"
     ]
    },
    {
     "name": "stderr",
     "output_type": "stream",
     "text": [
      "D:\\Anaconda\\envs\\facebook_RCNN\\lib\\site-packages\\sklearn\\preprocessing\\data.py:172: UserWarning: Numerical issues were encountered when centering the data and might not be solved. Dataset may contain too large values. You may need to prescale your features.\n",
      "  warnings.warn(\"Numerical issues were encountered \"\n"
     ]
    },
    {
     "name": "stdout",
     "output_type": "stream",
     "text": [
      "auc metric added\n"
     ]
    },
    {
     "name": "stderr",
     "output_type": "stream",
     "text": [
      "D:\\Anaconda\\envs\\facebook_RCNN\\lib\\site-packages\\sklearn\\preprocessing\\data.py:172: UserWarning: Numerical issues were encountered when centering the data and might not be solved. Dataset may contain too large values. You may need to prescale your features.\n",
      "  warnings.warn(\"Numerical issues were encountered \"\n"
     ]
    },
    {
     "name": "stdout",
     "output_type": "stream",
     "text": [
      "auc metric added\n"
     ]
    },
    {
     "name": "stderr",
     "output_type": "stream",
     "text": [
      "D:\\Anaconda\\envs\\facebook_RCNN\\lib\\site-packages\\sklearn\\preprocessing\\data.py:172: UserWarning: Numerical issues were encountered when centering the data and might not be solved. Dataset may contain too large values. You may need to prescale your features.\n",
      "  warnings.warn(\"Numerical issues were encountered \"\n"
     ]
    },
    {
     "name": "stdout",
     "output_type": "stream",
     "text": [
      "auc metric added\n"
     ]
    },
    {
     "name": "stderr",
     "output_type": "stream",
     "text": [
      "D:\\Anaconda\\envs\\facebook_RCNN\\lib\\site-packages\\sklearn\\preprocessing\\data.py:172: UserWarning: Numerical issues were encountered when centering the data and might not be solved. Dataset may contain too large values. You may need to prescale your features.\n",
      "  warnings.warn(\"Numerical issues were encountered \"\n"
     ]
    },
    {
     "name": "stdout",
     "output_type": "stream",
     "text": [
      "auc metric added\n"
     ]
    },
    {
     "name": "stderr",
     "output_type": "stream",
     "text": [
      "D:\\Anaconda\\envs\\facebook_RCNN\\lib\\site-packages\\sklearn\\preprocessing\\data.py:172: UserWarning: Numerical issues were encountered when centering the data and might not be solved. Dataset may contain too large values. You may need to prescale your features.\n",
      "  warnings.warn(\"Numerical issues were encountered \"\n"
     ]
    },
    {
     "name": "stdout",
     "output_type": "stream",
     "text": [
      "auc metric added\n"
     ]
    },
    {
     "name": "stderr",
     "output_type": "stream",
     "text": [
      "D:\\Anaconda\\envs\\facebook_RCNN\\lib\\site-packages\\sklearn\\preprocessing\\data.py:172: UserWarning: Numerical issues were encountered when centering the data and might not be solved. Dataset may contain too large values. You may need to prescale your features.\n",
      "  warnings.warn(\"Numerical issues were encountered \"\n"
     ]
    },
    {
     "name": "stdout",
     "output_type": "stream",
     "text": [
      "auc metric added\n"
     ]
    },
    {
     "name": "stderr",
     "output_type": "stream",
     "text": [
      "D:\\Anaconda\\envs\\facebook_RCNN\\lib\\site-packages\\sklearn\\preprocessing\\data.py:172: UserWarning: Numerical issues were encountered when centering the data and might not be solved. Dataset may contain too large values. You may need to prescale your features.\n",
      "  warnings.warn(\"Numerical issues were encountered \"\n"
     ]
    },
    {
     "name": "stdout",
     "output_type": "stream",
     "text": [
      "auc metric added\n"
     ]
    },
    {
     "name": "stderr",
     "output_type": "stream",
     "text": [
      "D:\\Anaconda\\envs\\facebook_RCNN\\lib\\site-packages\\sklearn\\preprocessing\\data.py:172: UserWarning: Numerical issues were encountered when centering the data and might not be solved. Dataset may contain too large values. You may need to prescale your features.\n",
      "  warnings.warn(\"Numerical issues were encountered \"\n"
     ]
    },
    {
     "name": "stdout",
     "output_type": "stream",
     "text": [
      "auc metric added\n"
     ]
    },
    {
     "name": "stderr",
     "output_type": "stream",
     "text": [
      "D:\\Anaconda\\envs\\facebook_RCNN\\lib\\site-packages\\sklearn\\preprocessing\\data.py:172: UserWarning: Numerical issues were encountered when centering the data and might not be solved. Dataset may contain too large values. You may need to prescale your features.\n",
      "  warnings.warn(\"Numerical issues were encountered \"\n"
     ]
    },
    {
     "name": "stdout",
     "output_type": "stream",
     "text": [
      "auc metric added\n"
     ]
    }
   ],
   "source": [
    "auc_metric = []\n",
    "for i in range(30):\n",
    "    X = train.drop([\"TARGET\",\"ID\"],axis=1)\n",
    "    X['n0'] = (X==0).sum(axis=1)\n",
    "    X_normalized = normalize(X, axis=0)\n",
    "    pca = PCA(n_components=i)\n",
    "    X_pca = pca.fit_transform(X_normalized)\n",
    "    for j in range(i):\n",
    "        X['PCA_'+str(j)] = X_pca[:,j]\n",
    "    X_bin = Binarizer().fit_transform(scale(X))\n",
    "    selectChi2 = SelectKBest(chi2, k=200 ).fit(X_bin, Y)\n",
    "    chi2_selected = selectChi2.get_support()\n",
    "    chi2_selected_features = [ f for i,f in enumerate(X.columns) if chi2_selected[i]]\n",
    "    X_selected = X[chi2_selected_features]\n",
    "    X_train, X_test, Y_train, Y_test = train_test_split(X_selected, Y, stratify=Y, test_size=0.33, random_state=42)\n",
    "    ratio = float(np.sum(Y == 1)) / np.sum(Y==0)\n",
    "    clf = xgb.XGBClassifier(missing=9999999999,\n",
    "                max_depth = 8,\n",
    "                n_estimators=1000,\n",
    "                learning_rate=0.1, \n",
    "                nthread=4,\n",
    "                subsample=1.0,\n",
    "                colsample_bytree=0.5,\n",
    "                min_child_weight = 3,\n",
    "                scale_pos_weight = ratio,\n",
    "                reg_alpha=0.03,\n",
    "                seed=10000)\n",
    "    clf.fit(X_train, Y_train, verbose=False, early_stopping_rounds=40, eval_metric=\"auc\",\n",
    "        eval_set=[(X_train, Y_train), (X_test, Y_test)])\n",
    "    auc_metric.append(roc_auc_score(Y_test, clf.predict_proba(X_test)[:,1]))\n",
    "    print('auc metric added')"
   ]
  },
  {
   "cell_type": "code",
   "execution_count": 133,
   "metadata": {},
   "outputs": [
    {
     "data": {
      "text/plain": [
       "[<matplotlib.lines.Line2D at 0x4dce3b70>]"
      ]
     },
     "execution_count": 133,
     "metadata": {},
     "output_type": "execute_result"
    },
    {
     "data": {
      "image/png": "[encoded data removed]",
      "text/plain": [
       "<Figure size 432x288 with 1 Axes>"
      ]
     },
     "metadata": {
      "needs_background": "light"
     },
     "output_type": "display_data"
    }
   ],
   "source": [
    "plt.xlabel('Number of PCA components')\n",
    "plt.ylabel('roc auc score on test')\n",
    "plt.plot(auc_metric)"
   ]
  },
  {
   "cell_type": "markdown",
   "metadata": {},
   "source": [
    "судя по графику можно заметить, что кол-во компонент 25 дает наилучшие результаты, повышая auc метрику на 0.0005, поэтому можно сказать, что PCA помог улучшить точность. Однако он не решил основную проблему - понижение вероятности недовольства всех клиентов к нулю. Настолько маленькое улучшение не стоит того, а учитывая, что некоторое кол-во компонент ухудшило результат, к тому же не наблюдается четкой закономерности между улучшением результата и кол-вом компонент, можно сказать, что эти признаки ничего значимого в модель не добавили."
   ]
  },
  {
   "cell_type": "markdown",
   "metadata": {},
   "source": [
    "В итоге я получил, что PCA признаки не оказывают существенного или даже ожидаемого воздействия на точность модели.\n",
    "Хоть они и добавляют датасету вариацию, на данный момент цель модели при обучении заключается\n",
    "в уменьшении вероятности недовольства клиентов, чему добавление признаков PCA может лишь помешать, что мы и видим\n",
    "на графике выше.\n",
    "Хочу сказать, что хоть мои результаты и приближены к наилучшим результатам участников соревнования, я еще не заметил\n",
    "среди них обсуждения или поднятия вопроса насчет того, что модель просто не детектит недовольство у клиентов вообще.\n",
    "И ни в одной из публично выложенных тетрадок они не выводят и не анализируют матрицу ошибок, показывая лишь ту метрику, которую\n",
    "просят организаторы.\n",
    "\n",
    "К тому же, просмотрев их submission, прикрепленный к публичным тетрадкам я заметил те же очень низкие вероятности, что\n",
    "наводит меня на мысль, что для достижения лучших показателей люди приняли решение схитрить и не пытаться детектить\n",
    "меньший класс, а попытаться наоборот - сделать ему как можно меньшую вероятность.\n",
    "Это даст меньшую ошибку на правильных предсказаниях, но большую на неправильных. Из-за большого классового дизбаланса\n",
    "auc метрика в итоге повысится."
   ]
  },
  {
   "cell_type": "markdown",
   "metadata": {},
   "source": [
    "Идеи для решения проблемы:\n",
    "\n",
    "1.Создать собственную метрику с увеличенным штрафом за предсказание недовольного клиента как довольного\n",
    "\n",
    "2.Использование нейронных сетей(???)"
   ]
  },
  {
   "cell_type": "code",
   "execution_count": null,
   "metadata": {},
   "outputs": [],
   "source": []
  }
 ],
 "metadata": {
  "kernelspec": {
   "display_name": "Python (facebook_RCNN)",
   "language": "python",
   "name": "facebook_rcnn"
  },
  "language_info": {
   "codemirror_mode": {
    "name": "ipython",
    "version": 3
   },
   "file_extension": ".py",
   "mimetype": "text/x-python",
   "name": "python",
   "nbconvert_exporter": "python",
   "pygments_lexer": "ipython3",
   "version": "3.7.3"
  }
 },
 "nbformat": 4,
 "nbformat_minor": 2
}
